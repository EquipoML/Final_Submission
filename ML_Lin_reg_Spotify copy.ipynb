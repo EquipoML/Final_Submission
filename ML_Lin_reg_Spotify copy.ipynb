{
 "cells": [
  {
   "cell_type": "markdown",
   "metadata": {},
   "source": [
    "# Importing Libraries"
   ]
  },
  {
   "cell_type": "code",
   "execution_count": 4,
   "metadata": {},
   "outputs": [],
   "source": [
    "#basic Libraries\n",
    "import numpy as np\n",
    "import pandas as pd\n",
    "import warnings\n",
    "import scipy\n"
   ]
  },
  {
   "cell_type": "code",
   "execution_count": 5,
   "metadata": {},
   "outputs": [],
   "source": [
    "#Machine Learning libraries\n",
    "from sklearn.model_selection import train_test_split\n",
    "from sklearn.linear_model import LinearRegression\n",
    "from sklearn.model_selection import train_test_split\n",
    "from sklearn.metrics import mean_absolute_error, mean_squared_error\n",
    "from sklearn.feature_selection import RFE as RFE\n",
    "from sklearn.metrics import r2_score\n"
   ]
  },
  {
   "cell_type": "code",
   "execution_count": 6,
   "metadata": {},
   "outputs": [],
   "source": [
    "\n",
    "\n",
    "#Data Visualization\n",
    "import seaborn as sns\n",
    "import matplotlib.pyplot as plt\n",
    "\n",
    "\n",
    "\n",
    "\n"
   ]
  },
  {
   "cell_type": "code",
   "execution_count": 7,
   "metadata": {},
   "outputs": [],
   "source": [
    "#Libraries set up\n",
    "warnings.filterwarnings('ignore')\n",
    "plt.rcParams['figure.figsize'] = (10, 10)\n",
    "\n",
    "plt.style.use(\"seaborn-v0_8\")  # replaced plt.style.use('seaborn') to fix deprecation error\n",
    "\n"
   ]
  },
  {
   "cell_type": "markdown",
   "metadata": {},
   "source": [
    "# 1. Loading the dataset"
   ]
  },
  {
   "cell_type": "code",
   "execution_count": 8,
   "metadata": {},
   "outputs": [],
   "source": [
    "df = pd.read_csv(\"spotify_dataset.csv\", encoding='ISO-8859-1')\n",
    "\n",
    "\n",
    "\n",
    "\n",
    "#got an error (UnicodeDecodeError: \"utf-8\") when loading the dataset for the 1st time. \n",
    "#The UnicodeDecodeError: ‘utf-8’ codec can’t decode bytes in position 0-1: invalid continuation byte error \n",
    "#is a common error that occurs when trying to read a file with Pandas that contains non-UTF-8 encoded characters. \n",
    "#UTF-8 is a character encoding standard that’s widely used for text files, but it’s not the only encoding format out there. \n",
    "#If you try to read a file with a different encoding format, you may encounter this error.\n",
    "\n",
    "\n"
   ]
  },
  {
   "cell_type": "code",
   "execution_count": 11,
   "metadata": {},
   "outputs": [],
   "source": [
    "# resaving and reloading with semicolon to avoid potential numerical confusion\n",
    "\n",
    "CSV_SEMICOL_FILE_NAME = 'spotify_dataset_scsv.csv'\n",
    "\n",
    "df.to_csv(CSV_SEMICOL_FILE_NAME, index=False, sep=';', encoding='utf-8')\n",
    "\n"
   ]
  },
  {
   "cell_type": "code",
   "execution_count": 12,
   "metadata": {},
   "outputs": [],
   "source": [
    "df = pd.read_csv(CSV_SEMICOL_FILE_NAME, sep=';', encoding='utf-8')\n"
   ]
  },
  {
   "cell_type": "markdown",
   "metadata": {},
   "source": [
    "# 2. Initial exploration"
   ]
  },
  {
   "cell_type": "code",
   "execution_count": 13,
   "metadata": {},
   "outputs": [
    {
     "data": {
      "text/html": [
       "<div>\n",
       "<style scoped>\n",
       "    .dataframe tbody tr th:only-of-type {\n",
       "        vertical-align: middle;\n",
       "    }\n",
       "\n",
       "    .dataframe tbody tr th {\n",
       "        vertical-align: top;\n",
       "    }\n",
       "\n",
       "    .dataframe thead th {\n",
       "        text-align: right;\n",
       "    }\n",
       "</style>\n",
       "<table border=\"1\" class=\"dataframe\">\n",
       "  <thead>\n",
       "    <tr style=\"text-align: right;\">\n",
       "      <th></th>\n",
       "      <th>track_name</th>\n",
       "      <th>artist(s)_name</th>\n",
       "      <th>artist_count</th>\n",
       "      <th>released_year</th>\n",
       "      <th>released_month</th>\n",
       "      <th>released_day</th>\n",
       "      <th>in_spotify_playlists</th>\n",
       "      <th>in_spotify_charts</th>\n",
       "      <th>streams</th>\n",
       "      <th>in_apple_playlists</th>\n",
       "      <th>...</th>\n",
       "      <th>bpm</th>\n",
       "      <th>key</th>\n",
       "      <th>mode</th>\n",
       "      <th>danceability_%</th>\n",
       "      <th>valence_%</th>\n",
       "      <th>energy_%</th>\n",
       "      <th>acousticness_%</th>\n",
       "      <th>instrumentalness_%</th>\n",
       "      <th>liveness_%</th>\n",
       "      <th>speechiness_%</th>\n",
       "    </tr>\n",
       "  </thead>\n",
       "  <tbody>\n",
       "    <tr>\n",
       "      <th>0</th>\n",
       "      <td>Seven (feat. Latto) (Explicit Ver.)</td>\n",
       "      <td>Latto, Jung Kook</td>\n",
       "      <td>2</td>\n",
       "      <td>2023</td>\n",
       "      <td>7</td>\n",
       "      <td>14</td>\n",
       "      <td>553</td>\n",
       "      <td>147</td>\n",
       "      <td>141381703</td>\n",
       "      <td>43</td>\n",
       "      <td>...</td>\n",
       "      <td>125</td>\n",
       "      <td>B</td>\n",
       "      <td>Major</td>\n",
       "      <td>80</td>\n",
       "      <td>89</td>\n",
       "      <td>83</td>\n",
       "      <td>31</td>\n",
       "      <td>0</td>\n",
       "      <td>8</td>\n",
       "      <td>4</td>\n",
       "    </tr>\n",
       "    <tr>\n",
       "      <th>1</th>\n",
       "      <td>LALA</td>\n",
       "      <td>Myke Towers</td>\n",
       "      <td>1</td>\n",
       "      <td>2023</td>\n",
       "      <td>3</td>\n",
       "      <td>23</td>\n",
       "      <td>1474</td>\n",
       "      <td>48</td>\n",
       "      <td>133716286</td>\n",
       "      <td>48</td>\n",
       "      <td>...</td>\n",
       "      <td>92</td>\n",
       "      <td>C#</td>\n",
       "      <td>Major</td>\n",
       "      <td>71</td>\n",
       "      <td>61</td>\n",
       "      <td>74</td>\n",
       "      <td>7</td>\n",
       "      <td>0</td>\n",
       "      <td>10</td>\n",
       "      <td>4</td>\n",
       "    </tr>\n",
       "    <tr>\n",
       "      <th>2</th>\n",
       "      <td>vampire</td>\n",
       "      <td>Olivia Rodrigo</td>\n",
       "      <td>1</td>\n",
       "      <td>2023</td>\n",
       "      <td>6</td>\n",
       "      <td>30</td>\n",
       "      <td>1397</td>\n",
       "      <td>113</td>\n",
       "      <td>140003974</td>\n",
       "      <td>94</td>\n",
       "      <td>...</td>\n",
       "      <td>138</td>\n",
       "      <td>F</td>\n",
       "      <td>Major</td>\n",
       "      <td>51</td>\n",
       "      <td>32</td>\n",
       "      <td>53</td>\n",
       "      <td>17</td>\n",
       "      <td>0</td>\n",
       "      <td>31</td>\n",
       "      <td>6</td>\n",
       "    </tr>\n",
       "    <tr>\n",
       "      <th>3</th>\n",
       "      <td>Cruel Summer</td>\n",
       "      <td>Taylor Swift</td>\n",
       "      <td>1</td>\n",
       "      <td>2019</td>\n",
       "      <td>8</td>\n",
       "      <td>23</td>\n",
       "      <td>7858</td>\n",
       "      <td>100</td>\n",
       "      <td>800840817</td>\n",
       "      <td>116</td>\n",
       "      <td>...</td>\n",
       "      <td>170</td>\n",
       "      <td>A</td>\n",
       "      <td>Major</td>\n",
       "      <td>55</td>\n",
       "      <td>58</td>\n",
       "      <td>72</td>\n",
       "      <td>11</td>\n",
       "      <td>0</td>\n",
       "      <td>11</td>\n",
       "      <td>15</td>\n",
       "    </tr>\n",
       "    <tr>\n",
       "      <th>4</th>\n",
       "      <td>WHERE SHE GOES</td>\n",
       "      <td>Bad Bunny</td>\n",
       "      <td>1</td>\n",
       "      <td>2023</td>\n",
       "      <td>5</td>\n",
       "      <td>18</td>\n",
       "      <td>3133</td>\n",
       "      <td>50</td>\n",
       "      <td>303236322</td>\n",
       "      <td>84</td>\n",
       "      <td>...</td>\n",
       "      <td>144</td>\n",
       "      <td>A</td>\n",
       "      <td>Minor</td>\n",
       "      <td>65</td>\n",
       "      <td>23</td>\n",
       "      <td>80</td>\n",
       "      <td>14</td>\n",
       "      <td>63</td>\n",
       "      <td>11</td>\n",
       "      <td>6</td>\n",
       "    </tr>\n",
       "  </tbody>\n",
       "</table>\n",
       "<p>5 rows × 24 columns</p>\n",
       "</div>"
      ],
      "text/plain": [
       "                            track_name    artist(s)_name  artist_count  \\\n",
       "0  Seven (feat. Latto) (Explicit Ver.)  Latto, Jung Kook             2   \n",
       "1                                 LALA       Myke Towers             1   \n",
       "2                              vampire    Olivia Rodrigo             1   \n",
       "3                         Cruel Summer      Taylor Swift             1   \n",
       "4                       WHERE SHE GOES         Bad Bunny             1   \n",
       "\n",
       "   released_year  released_month  released_day  in_spotify_playlists  \\\n",
       "0           2023               7            14                   553   \n",
       "1           2023               3            23                  1474   \n",
       "2           2023               6            30                  1397   \n",
       "3           2019               8            23                  7858   \n",
       "4           2023               5            18                  3133   \n",
       "\n",
       "   in_spotify_charts    streams  in_apple_playlists  ...  bpm key   mode  \\\n",
       "0                147  141381703                  43  ...  125   B  Major   \n",
       "1                 48  133716286                  48  ...   92  C#  Major   \n",
       "2                113  140003974                  94  ...  138   F  Major   \n",
       "3                100  800840817                 116  ...  170   A  Major   \n",
       "4                 50  303236322                  84  ...  144   A  Minor   \n",
       "\n",
       "  danceability_%  valence_% energy_% acousticness_%  instrumentalness_%  \\\n",
       "0             80         89       83             31                   0   \n",
       "1             71         61       74              7                   0   \n",
       "2             51         32       53             17                   0   \n",
       "3             55         58       72             11                   0   \n",
       "4             65         23       80             14                  63   \n",
       "\n",
       "   liveness_%  speechiness_%  \n",
       "0           8              4  \n",
       "1          10              4  \n",
       "2          31              6  \n",
       "3          11             15  \n",
       "4          11              6  \n",
       "\n",
       "[5 rows x 24 columns]"
      ]
     },
     "execution_count": 13,
     "metadata": {},
     "output_type": "execute_result"
    }
   ],
   "source": [
    "df.head()\n"
   ]
  },
  {
   "cell_type": "code",
   "execution_count": 14,
   "metadata": {},
   "outputs": [
    {
     "data": {
      "text/plain": [
       "(952, 24)"
      ]
     },
     "execution_count": 14,
     "metadata": {},
     "output_type": "execute_result"
    }
   ],
   "source": [
    "df.shape\n"
   ]
  },
  {
   "cell_type": "code",
   "execution_count": 15,
   "metadata": {},
   "outputs": [
    {
     "name": "stdout",
     "output_type": "stream",
     "text": [
      "<class 'pandas.core.frame.DataFrame'>\n",
      "RangeIndex: 952 entries, 0 to 951\n",
      "Data columns (total 24 columns):\n",
      " #   Column                Non-Null Count  Dtype \n",
      "---  ------                --------------  ----- \n",
      " 0   track_name            952 non-null    object\n",
      " 1   artist(s)_name        952 non-null    object\n",
      " 2   artist_count          952 non-null    int64 \n",
      " 3   released_year         952 non-null    int64 \n",
      " 4   released_month        952 non-null    int64 \n",
      " 5   released_day          952 non-null    int64 \n",
      " 6   in_spotify_playlists  952 non-null    int64 \n",
      " 7   in_spotify_charts     952 non-null    int64 \n",
      " 8   streams               952 non-null    int64 \n",
      " 9   in_apple_playlists    952 non-null    int64 \n",
      " 10  in_apple_charts       952 non-null    int64 \n",
      " 11  in_deezer_playlists   952 non-null    object\n",
      " 12  in_deezer_charts      952 non-null    int64 \n",
      " 13  in_shazam_charts      902 non-null    object\n",
      " 14  bpm                   952 non-null    int64 \n",
      " 15  key                   857 non-null    object\n",
      " 16  mode                  952 non-null    object\n",
      " 17  danceability_%        952 non-null    int64 \n",
      " 18  valence_%             952 non-null    int64 \n",
      " 19  energy_%              952 non-null    int64 \n",
      " 20  acousticness_%        952 non-null    int64 \n",
      " 21  instrumentalness_%    952 non-null    int64 \n",
      " 22  liveness_%            952 non-null    int64 \n",
      " 23  speechiness_%         952 non-null    int64 \n",
      "dtypes: int64(18), object(6)\n",
      "memory usage: 178.6+ KB\n"
     ]
    }
   ],
   "source": [
    "df.info()\n"
   ]
  },
  {
   "cell_type": "code",
   "execution_count": 16,
   "metadata": {},
   "outputs": [
    {
     "data": {
      "text/plain": [
       "track_name              object\n",
       "artist(s)_name          object\n",
       "artist_count             int64\n",
       "released_year            int64\n",
       "released_month           int64\n",
       "released_day             int64\n",
       "in_spotify_playlists     int64\n",
       "in_spotify_charts        int64\n",
       "streams                  int64\n",
       "in_apple_playlists       int64\n",
       "in_apple_charts          int64\n",
       "in_deezer_playlists     object\n",
       "in_deezer_charts         int64\n",
       "in_shazam_charts        object\n",
       "bpm                      int64\n",
       "key                     object\n",
       "mode                    object\n",
       "danceability_%           int64\n",
       "valence_%                int64\n",
       "energy_%                 int64\n",
       "acousticness_%           int64\n",
       "instrumentalness_%       int64\n",
       "liveness_%               int64\n",
       "speechiness_%            int64\n",
       "dtype: object"
      ]
     },
     "execution_count": 16,
     "metadata": {},
     "output_type": "execute_result"
    }
   ],
   "source": [
    "df.dtypes\n"
   ]
  },
  {
   "cell_type": "code",
   "execution_count": 17,
   "metadata": {},
   "outputs": [
    {
     "data": {
      "text/plain": [
       "0"
      ]
     },
     "execution_count": 17,
     "metadata": {},
     "output_type": "execute_result"
    }
   ],
   "source": [
    "# check in_deezer_playlists and convert to int64\n",
    "df['in_deezer_playlists'].isnull().sum()\n"
   ]
  },
  {
   "cell_type": "code",
   "execution_count": 18,
   "metadata": {},
   "outputs": [
    {
     "data": {
      "text/plain": [
       "79"
      ]
     },
     "execution_count": 18,
     "metadata": {},
     "output_type": "execute_result"
    }
   ],
   "source": [
    "# looking if there are values that can't parse to numbers\n",
    "in_deezer_playlists_to_numerics_coreced = pd.to_numeric(df['in_deezer_playlists'], errors='coerce')\n",
    "\n",
    "# count how many NaNs because of 'coerce'\n",
    "in_deezer_playlists_to_numerics_coreced.isnull().sum()  # Pandas treats NaNs as Nulls\n",
    "\n"
   ]
  },
  {
   "cell_type": "code",
   "execution_count": 19,
   "metadata": {},
   "outputs": [
    {
     "data": {
      "text/plain": [
       "48     2,445\n",
       "54     3,394\n",
       "55     3,421\n",
       "65     4,053\n",
       "73     1,056\n",
       "       ...  \n",
       "760    2,453\n",
       "761    2,430\n",
       "870    6,720\n",
       "892    1,315\n",
       "909    7,827\n",
       "Name: in_deezer_playlists, Length: 79, dtype: object"
      ]
     },
     "execution_count": 19,
     "metadata": {},
     "output_type": "execute_result"
    }
   ],
   "source": [
    "# corrent, replace or impute in Deezer playlists NaNs/Nulls to their mean, then convert to rounded int64\n",
    "in_deezer_playlists_mean = in_deezer_playlists_to_numerics_coreced.mean()\n",
    "df.loc[in_deezer_playlists_to_numerics_coreced.isnull() , 'in_deezer_playlists']\n"
   ]
  },
  {
   "cell_type": "code",
   "execution_count": 20,
   "metadata": {},
   "outputs": [
    {
     "data": {
      "text/plain": [
       "0       45\n",
       "1       58\n",
       "2       91\n",
       "3      125\n",
       "4       87\n",
       "      ... \n",
       "947     37\n",
       "948      8\n",
       "949      7\n",
       "950     17\n",
       "951     32\n",
       "Name: in_deezer_playlists, Length: 952, dtype: object"
      ]
     },
     "execution_count": 20,
     "metadata": {},
     "output_type": "execute_result"
    }
   ],
   "source": [
    "# Note: the previous seem to be comma- thousands separated numbers, so we assume these are correct as they are within reasonnable range and that they represent a non US encoding\n",
    "# so we convert them to their int equivalent\n",
    "in_deezer_fixme = df.loc[:, 'in_deezer_playlists']\n",
    "CONST_in_deezer_playlists_thousands_sep = ','\n",
    "CONST_in_deezer_playlists_thousands_substitute = ''\n",
    "in_deezer_fixed = in_deezer_fixme.map(lambda s: s.replace(CONST_in_deezer_playlists_thousands_sep, CONST_in_deezer_playlists_thousands_substitute))\n",
    "in_deezer_fixed \n"
   ]
  },
  {
   "cell_type": "code",
   "execution_count": 21,
   "metadata": {},
   "outputs": [
    {
     "data": {
      "text/plain": [
       "0"
      ]
     },
     "execution_count": 21,
     "metadata": {},
     "output_type": "execute_result"
    }
   ],
   "source": [
    "# try again to convert all to numeric\n",
    "in_deezer_playlists_to_numerics_coreced = pd.to_numeric(in_deezer_fixed, errors='coerce')\n",
    "\n",
    "# count how many NaNs because of 'coerce'\n",
    "in_deezer_playlists_to_numerics_coreced.isnull().sum()  # Pandas treats NaNs as Nulls\n"
   ]
  },
  {
   "cell_type": "code",
   "execution_count": 22,
   "metadata": {},
   "outputs": [],
   "source": [
    "df[ 'in_deezer_playlists'] = in_deezer_playlists_to_numerics_coreced\n"
   ]
  },
  {
   "cell_type": "code",
   "execution_count": 23,
   "metadata": {},
   "outputs": [
    {
     "data": {
      "text/plain": [
       "track_name              object\n",
       "artist(s)_name          object\n",
       "artist_count             int64\n",
       "released_year            int64\n",
       "released_month           int64\n",
       "released_day             int64\n",
       "in_spotify_playlists     int64\n",
       "in_spotify_charts        int64\n",
       "streams                  int64\n",
       "in_apple_playlists       int64\n",
       "in_apple_charts          int64\n",
       "in_deezer_playlists      int64\n",
       "in_deezer_charts         int64\n",
       "in_shazam_charts        object\n",
       "bpm                      int64\n",
       "key                     object\n",
       "mode                    object\n",
       "danceability_%           int64\n",
       "valence_%                int64\n",
       "energy_%                 int64\n",
       "acousticness_%           int64\n",
       "instrumentalness_%       int64\n",
       "liveness_%               int64\n",
       "speechiness_%            int64\n",
       "dtype: object"
      ]
     },
     "execution_count": 23,
     "metadata": {},
     "output_type": "execute_result"
    }
   ],
   "source": [
    "df.dtypes\n"
   ]
  },
  {
   "cell_type": "code",
   "execution_count": 24,
   "metadata": {},
   "outputs": [],
   "source": [
    "conditions = [    \n",
    "    (df[\"released_month\"] > 11) | (df[\"released_month\"] <= 3),\n",
    "    (df[\"released_month\"] == 4) | (df[\"released_month\"] == 5),\n",
    "    (df[\"released_month\"] >= 6) | (df[\"released_month\"] <= 9),\n",
    "    (df[\"released_month\"] == 10) | (df[\"released_month\"] == 11)\n",
    "]\n",
    "\n",
    "# create a list of the values we want to assign for each condition\n",
    "values = ['Winter', 'Spring', 'Summer', 'Fall']\n",
    "    \n",
    "# create a new column and use np.select to assign values to it using our lists as arguments\n",
    "df['released_season'] = np.select(conditions, values)\n"
   ]
  },
  {
   "cell_type": "code",
   "execution_count": 25,
   "metadata": {},
   "outputs": [
    {
     "data": {
      "text/html": [
       "<div>\n",
       "<style scoped>\n",
       "    .dataframe tbody tr th:only-of-type {\n",
       "        vertical-align: middle;\n",
       "    }\n",
       "\n",
       "    .dataframe tbody tr th {\n",
       "        vertical-align: top;\n",
       "    }\n",
       "\n",
       "    .dataframe thead th {\n",
       "        text-align: right;\n",
       "    }\n",
       "</style>\n",
       "<table border=\"1\" class=\"dataframe\">\n",
       "  <thead>\n",
       "    <tr style=\"text-align: right;\">\n",
       "      <th></th>\n",
       "      <th>track_name</th>\n",
       "      <th>artist(s)_name</th>\n",
       "      <th>artist_count</th>\n",
       "      <th>released_year</th>\n",
       "      <th>released_month</th>\n",
       "      <th>released_day</th>\n",
       "      <th>in_spotify_playlists</th>\n",
       "      <th>in_spotify_charts</th>\n",
       "      <th>streams</th>\n",
       "      <th>in_apple_playlists</th>\n",
       "      <th>...</th>\n",
       "      <th>key</th>\n",
       "      <th>mode</th>\n",
       "      <th>danceability_%</th>\n",
       "      <th>valence_%</th>\n",
       "      <th>energy_%</th>\n",
       "      <th>acousticness_%</th>\n",
       "      <th>instrumentalness_%</th>\n",
       "      <th>liveness_%</th>\n",
       "      <th>speechiness_%</th>\n",
       "      <th>released_season</th>\n",
       "    </tr>\n",
       "  </thead>\n",
       "  <tbody>\n",
       "    <tr>\n",
       "      <th>0</th>\n",
       "      <td>Seven (feat. Latto) (Explicit Ver.)</td>\n",
       "      <td>Latto, Jung Kook</td>\n",
       "      <td>2</td>\n",
       "      <td>2023</td>\n",
       "      <td>7</td>\n",
       "      <td>14</td>\n",
       "      <td>553</td>\n",
       "      <td>147</td>\n",
       "      <td>141381703</td>\n",
       "      <td>43</td>\n",
       "      <td>...</td>\n",
       "      <td>B</td>\n",
       "      <td>Major</td>\n",
       "      <td>80</td>\n",
       "      <td>89</td>\n",
       "      <td>83</td>\n",
       "      <td>31</td>\n",
       "      <td>0</td>\n",
       "      <td>8</td>\n",
       "      <td>4</td>\n",
       "      <td>Summer</td>\n",
       "    </tr>\n",
       "    <tr>\n",
       "      <th>1</th>\n",
       "      <td>LALA</td>\n",
       "      <td>Myke Towers</td>\n",
       "      <td>1</td>\n",
       "      <td>2023</td>\n",
       "      <td>3</td>\n",
       "      <td>23</td>\n",
       "      <td>1474</td>\n",
       "      <td>48</td>\n",
       "      <td>133716286</td>\n",
       "      <td>48</td>\n",
       "      <td>...</td>\n",
       "      <td>C#</td>\n",
       "      <td>Major</td>\n",
       "      <td>71</td>\n",
       "      <td>61</td>\n",
       "      <td>74</td>\n",
       "      <td>7</td>\n",
       "      <td>0</td>\n",
       "      <td>10</td>\n",
       "      <td>4</td>\n",
       "      <td>Winter</td>\n",
       "    </tr>\n",
       "    <tr>\n",
       "      <th>2</th>\n",
       "      <td>vampire</td>\n",
       "      <td>Olivia Rodrigo</td>\n",
       "      <td>1</td>\n",
       "      <td>2023</td>\n",
       "      <td>6</td>\n",
       "      <td>30</td>\n",
       "      <td>1397</td>\n",
       "      <td>113</td>\n",
       "      <td>140003974</td>\n",
       "      <td>94</td>\n",
       "      <td>...</td>\n",
       "      <td>F</td>\n",
       "      <td>Major</td>\n",
       "      <td>51</td>\n",
       "      <td>32</td>\n",
       "      <td>53</td>\n",
       "      <td>17</td>\n",
       "      <td>0</td>\n",
       "      <td>31</td>\n",
       "      <td>6</td>\n",
       "      <td>Summer</td>\n",
       "    </tr>\n",
       "    <tr>\n",
       "      <th>3</th>\n",
       "      <td>Cruel Summer</td>\n",
       "      <td>Taylor Swift</td>\n",
       "      <td>1</td>\n",
       "      <td>2019</td>\n",
       "      <td>8</td>\n",
       "      <td>23</td>\n",
       "      <td>7858</td>\n",
       "      <td>100</td>\n",
       "      <td>800840817</td>\n",
       "      <td>116</td>\n",
       "      <td>...</td>\n",
       "      <td>A</td>\n",
       "      <td>Major</td>\n",
       "      <td>55</td>\n",
       "      <td>58</td>\n",
       "      <td>72</td>\n",
       "      <td>11</td>\n",
       "      <td>0</td>\n",
       "      <td>11</td>\n",
       "      <td>15</td>\n",
       "      <td>Summer</td>\n",
       "    </tr>\n",
       "    <tr>\n",
       "      <th>4</th>\n",
       "      <td>WHERE SHE GOES</td>\n",
       "      <td>Bad Bunny</td>\n",
       "      <td>1</td>\n",
       "      <td>2023</td>\n",
       "      <td>5</td>\n",
       "      <td>18</td>\n",
       "      <td>3133</td>\n",
       "      <td>50</td>\n",
       "      <td>303236322</td>\n",
       "      <td>84</td>\n",
       "      <td>...</td>\n",
       "      <td>A</td>\n",
       "      <td>Minor</td>\n",
       "      <td>65</td>\n",
       "      <td>23</td>\n",
       "      <td>80</td>\n",
       "      <td>14</td>\n",
       "      <td>63</td>\n",
       "      <td>11</td>\n",
       "      <td>6</td>\n",
       "      <td>Spring</td>\n",
       "    </tr>\n",
       "  </tbody>\n",
       "</table>\n",
       "<p>5 rows × 25 columns</p>\n",
       "</div>"
      ],
      "text/plain": [
       "                            track_name    artist(s)_name  artist_count  \\\n",
       "0  Seven (feat. Latto) (Explicit Ver.)  Latto, Jung Kook             2   \n",
       "1                                 LALA       Myke Towers             1   \n",
       "2                              vampire    Olivia Rodrigo             1   \n",
       "3                         Cruel Summer      Taylor Swift             1   \n",
       "4                       WHERE SHE GOES         Bad Bunny             1   \n",
       "\n",
       "   released_year  released_month  released_day  in_spotify_playlists  \\\n",
       "0           2023               7            14                   553   \n",
       "1           2023               3            23                  1474   \n",
       "2           2023               6            30                  1397   \n",
       "3           2019               8            23                  7858   \n",
       "4           2023               5            18                  3133   \n",
       "\n",
       "   in_spotify_charts    streams  in_apple_playlists  ...  key   mode  \\\n",
       "0                147  141381703                  43  ...    B  Major   \n",
       "1                 48  133716286                  48  ...   C#  Major   \n",
       "2                113  140003974                  94  ...    F  Major   \n",
       "3                100  800840817                 116  ...    A  Major   \n",
       "4                 50  303236322                  84  ...    A  Minor   \n",
       "\n",
       "   danceability_% valence_%  energy_% acousticness_% instrumentalness_%  \\\n",
       "0              80        89        83             31                  0   \n",
       "1              71        61        74              7                  0   \n",
       "2              51        32        53             17                  0   \n",
       "3              55        58        72             11                  0   \n",
       "4              65        23        80             14                 63   \n",
       "\n",
       "   liveness_%  speechiness_%  released_season  \n",
       "0           8              4           Summer  \n",
       "1          10              4           Winter  \n",
       "2          31              6           Summer  \n",
       "3          11             15           Summer  \n",
       "4          11              6           Spring  \n",
       "\n",
       "[5 rows x 25 columns]"
      ]
     },
     "execution_count": 25,
     "metadata": {},
     "output_type": "execute_result"
    }
   ],
   "source": [
    "df.head(5)\n"
   ]
  },
  {
   "cell_type": "markdown",
   "metadata": {},
   "source": [
    "# 3. Data cleaning and imputation"
   ]
  },
  {
   "cell_type": "code",
   "execution_count": 26,
   "metadata": {},
   "outputs": [],
   "source": [
    "# keeping a, original deep copy to experiment and compare\n",
    "df_og = df.copy(deep=True)\n"
   ]
  },
  {
   "cell_type": "code",
   "execution_count": 27,
   "metadata": {},
   "outputs": [],
   "source": [
    "#Dropping columns not needed for this analysis\n",
    "df.drop([\"track_name\", \"artist(s)_name\", \"released_year\", \"released_month\", \"released_day\"], axis=1, inplace=True)\n"
   ]
  },
  {
   "cell_type": "code",
   "execution_count": 28,
   "metadata": {},
   "outputs": [
    {
     "data": {
      "text/plain": [
       "(952, 20)"
      ]
     },
     "execution_count": 28,
     "metadata": {},
     "output_type": "execute_result"
    }
   ],
   "source": [
    "df.shape\n"
   ]
  },
  {
   "cell_type": "code",
   "execution_count": 29,
   "metadata": {},
   "outputs": [
    {
     "data": {
      "text/plain": [
       "artist_count             0\n",
       "in_spotify_playlists     0\n",
       "in_spotify_charts        0\n",
       "streams                  0\n",
       "in_apple_playlists       0\n",
       "in_apple_charts          0\n",
       "in_deezer_playlists      0\n",
       "in_deezer_charts         0\n",
       "in_shazam_charts        50\n",
       "bpm                      0\n",
       "key                     95\n",
       "mode                     0\n",
       "danceability_%           0\n",
       "valence_%                0\n",
       "energy_%                 0\n",
       "acousticness_%           0\n",
       "instrumentalness_%       0\n",
       "liveness_%               0\n",
       "speechiness_%            0\n",
       "released_season          0\n",
       "dtype: int64"
      ]
     },
     "execution_count": 29,
     "metadata": {},
     "output_type": "execute_result"
    }
   ],
   "source": [
    "# Checking for null values, we found some missing values in 2 columns.\n",
    "#\"in_shazam_charts\" has 50/952 = 5% missing values and \"key\" has 10% missing values.\n",
    "df.isnull().sum()\n"
   ]
  },
  {
   "cell_type": "code",
   "execution_count": 30,
   "metadata": {},
   "outputs": [
    {
     "name": "stdout",
     "output_type": "stream",
     "text": [
      "<class 'pandas.core.frame.DataFrame'>\n",
      "RangeIndex: 952 entries, 0 to 951\n",
      "Data columns (total 18 columns):\n",
      " #   Column                Non-Null Count  Dtype \n",
      "---  ------                --------------  ----- \n",
      " 0   artist_count          952 non-null    int64 \n",
      " 1   in_spotify_playlists  952 non-null    int64 \n",
      " 2   in_spotify_charts     952 non-null    int64 \n",
      " 3   streams               952 non-null    int64 \n",
      " 4   in_apple_playlists    952 non-null    int64 \n",
      " 5   in_apple_charts       952 non-null    int64 \n",
      " 6   in_deezer_playlists   952 non-null    int64 \n",
      " 7   in_deezer_charts      952 non-null    int64 \n",
      " 8   bpm                   952 non-null    int64 \n",
      " 9   mode                  952 non-null    object\n",
      " 10  danceability_%        952 non-null    int64 \n",
      " 11  valence_%             952 non-null    int64 \n",
      " 12  energy_%              952 non-null    int64 \n",
      " 13  acousticness_%        952 non-null    int64 \n",
      " 14  instrumentalness_%    952 non-null    int64 \n",
      " 15  liveness_%            952 non-null    int64 \n",
      " 16  speechiness_%         952 non-null    int64 \n",
      " 17  released_season       952 non-null    object\n",
      "dtypes: int64(16), object(2)\n",
      "memory usage: 134.0+ KB\n"
     ]
    }
   ],
   "source": [
    "#Handling missing values\n",
    "#We can fill \"in_shazam_charts\" column with the AVG of in_spotify_charts, in_apple_charts and in_deezer_charts\n",
    "\n",
    "#mean_charts = sum(df[[\"in_spotify_charts\", \"in_apple_charts\", \"in_deezer_charts\"]].mean())/3\n",
    "##print(mean_charts)\n",
    "\n",
    "# fill NaN values with the mean of each column\n",
    "#df[\"in_shazam_charts\"].fillna(mean_charts, inplace=True)\n",
    "\n",
    "#We decide to drop the key and the shazam_charts columns because they both have more that 5% of total missing. And in the case of Shazam charts, Shazam was acquired by Apple in 2018, \n",
    "#so this variable is not going to add much different information than the Apple related variables.\n",
    "\n",
    "df.drop(\"key\", axis=1, inplace=True)\n",
    "df.drop(\"in_shazam_charts\", axis=1, inplace=True)\n",
    "\n",
    "df.info()\n"
   ]
  },
  {
   "cell_type": "code",
   "execution_count": 31,
   "metadata": {},
   "outputs": [
    {
     "data": {
      "text/plain": [
       "artist_count            0\n",
       "in_spotify_playlists    0\n",
       "in_spotify_charts       0\n",
       "streams                 0\n",
       "in_apple_playlists      0\n",
       "in_apple_charts         0\n",
       "in_deezer_playlists     0\n",
       "in_deezer_charts        0\n",
       "bpm                     0\n",
       "mode                    0\n",
       "danceability_%          0\n",
       "valence_%               0\n",
       "energy_%                0\n",
       "acousticness_%          0\n",
       "instrumentalness_%      0\n",
       "liveness_%              0\n",
       "speechiness_%           0\n",
       "released_season         0\n",
       "dtype: int64"
      ]
     },
     "execution_count": 31,
     "metadata": {},
     "output_type": "execute_result"
    }
   ],
   "source": [
    "df.isnull().sum()\n"
   ]
  },
  {
   "cell_type": "code",
   "execution_count": 32,
   "metadata": {},
   "outputs": [
    {
     "data": {
      "text/plain": [
       "(952, 18)"
      ]
     },
     "execution_count": 32,
     "metadata": {},
     "output_type": "execute_result"
    }
   ],
   "source": [
    "df.shape\n"
   ]
  },
  {
   "cell_type": "code",
   "execution_count": 33,
   "metadata": {},
   "outputs": [
    {
     "data": {
      "text/plain": [
       "0"
      ]
     },
     "execution_count": 33,
     "metadata": {},
     "output_type": "execute_result"
    }
   ],
   "source": [
    "# Check for duplicates\n",
    "df.duplicated().sum()\n"
   ]
  },
  {
   "cell_type": "code",
   "execution_count": 34,
   "metadata": {},
   "outputs": [
    {
     "data": {
      "text/plain": [
       "['artist_count',\n",
       " 'in_spotify_playlists',\n",
       " 'in_spotify_charts',\n",
       " 'streams',\n",
       " 'in_apple_playlists',\n",
       " 'in_apple_charts',\n",
       " 'in_deezer_playlists',\n",
       " 'in_deezer_charts',\n",
       " 'bpm',\n",
       " 'mode',\n",
       " 'danceability_%',\n",
       " 'valence_%',\n",
       " 'energy_%',\n",
       " 'acousticness_%',\n",
       " 'instrumentalness_%',\n",
       " 'liveness_%',\n",
       " 'speechiness_%',\n",
       " 'released_season']"
      ]
     },
     "execution_count": 34,
     "metadata": {},
     "output_type": "execute_result"
    }
   ],
   "source": [
    "# enumerate sets of values in each column to visually check for possible inconsistencies\n",
    "all_cols_list = list(df.columns)\n",
    "all_cols_list\n"
   ]
  },
  {
   "cell_type": "code",
   "execution_count": 35,
   "metadata": {},
   "outputs": [
    {
     "data": {
      "text/plain": [
       "[array([2, 1, 3, 8, 4, 5, 6, 7]),\n",
       " array([125,  92, 138, 170, 144, 141, 148, 100, 130,  83, 150, 118, 174,\n",
       "         89, 120,  78, 140, 123, 135, 133,  99, 107, 122, 204, 110, 126,\n",
       "        168,  98,  97, 180,  96,  95,  90, 128,  79, 134, 186,  67, 106,\n",
       "        171, 137, 101, 173, 198,  82,  81,  94, 124, 132, 131, 102, 142,\n",
       "        116, 129, 172, 136,  88, 143, 112,  93, 206,  84, 158, 117, 114,\n",
       "        108, 121, 127, 139, 162, 146, 115, 119,  80, 160, 192, 163, 154,\n",
       "        104, 164, 145,  85, 166, 109, 157,  74, 105, 155, 149, 169,  91,\n",
       "        202, 153, 178, 176, 111, 182, 175,  87,  76, 113,  77, 177, 147,\n",
       "         75, 103, 151, 152,  65, 179,  86,  73, 181, 161,  72, 184,  71,\n",
       "        189, 200, 196, 188, 156, 183, 165]),\n",
       " array(['Major', 'Minor'], dtype=object),\n",
       " array(['Summer', 'Winter', 'Spring'], dtype=object)]"
      ]
     },
     "execution_count": 35,
     "metadata": {},
     "output_type": "execute_result"
    }
   ],
   "source": [
    "# categorical vars (bpm here considered categorical)\n",
    "# note: we dropped previously [\"track_name\", \"artist(s)_name\", \"released_year\", \"released_month\", \"released_day\"]\n",
    "# with  df.drop([\"track_name\", \"artist(s)_name\", \"released_year\", \"released_month\", \"released_day\"], axis=1, inplace=True)\n",
    "cols_categoricals = ['artist_count', \n",
    "  'bpm',\n",
    "#  'key',\n",
    " 'mode',\n",
    " 'released_season']\n",
    "\n",
    "cols_categoricals_values = [df[col].unique() for col in cols_categoricals ]\n",
    "\n",
    "cols_categoricals_values\n"
   ]
  },
  {
   "cell_type": "code",
   "execution_count": 36,
   "metadata": {},
   "outputs": [
    {
     "data": {
      "text/html": [
       "<div>\n",
       "<style scoped>\n",
       "    .dataframe tbody tr th:only-of-type {\n",
       "        vertical-align: middle;\n",
       "    }\n",
       "\n",
       "    .dataframe tbody tr th {\n",
       "        vertical-align: top;\n",
       "    }\n",
       "\n",
       "    .dataframe thead th {\n",
       "        text-align: right;\n",
       "    }\n",
       "</style>\n",
       "<table border=\"1\" class=\"dataframe\">\n",
       "  <thead>\n",
       "    <tr style=\"text-align: right;\">\n",
       "      <th></th>\n",
       "      <th>in_spotify_playlists</th>\n",
       "      <th>in_spotify_charts</th>\n",
       "      <th>streams</th>\n",
       "      <th>in_apple_playlists</th>\n",
       "      <th>in_apple_charts</th>\n",
       "      <th>in_deezer_playlists</th>\n",
       "      <th>in_deezer_charts</th>\n",
       "    </tr>\n",
       "  </thead>\n",
       "  <tbody>\n",
       "    <tr>\n",
       "      <th>count</th>\n",
       "      <td>952.000000</td>\n",
       "      <td>952.000000</td>\n",
       "      <td>9.520000e+02</td>\n",
       "      <td>952.000000</td>\n",
       "      <td>952.000000</td>\n",
       "      <td>952.000000</td>\n",
       "      <td>952.000000</td>\n",
       "    </tr>\n",
       "    <tr>\n",
       "      <th>mean</th>\n",
       "      <td>5202.565126</td>\n",
       "      <td>12.022059</td>\n",
       "      <td>5.141374e+08</td>\n",
       "      <td>67.866597</td>\n",
       "      <td>51.963235</td>\n",
       "      <td>385.535714</td>\n",
       "      <td>2.669118</td>\n",
       "    </tr>\n",
       "    <tr>\n",
       "      <th>std</th>\n",
       "      <td>7901.400683</td>\n",
       "      <td>19.582405</td>\n",
       "      <td>5.668569e+08</td>\n",
       "      <td>86.470591</td>\n",
       "      <td>50.628850</td>\n",
       "      <td>1131.078760</td>\n",
       "      <td>6.038152</td>\n",
       "    </tr>\n",
       "    <tr>\n",
       "      <th>min</th>\n",
       "      <td>31.000000</td>\n",
       "      <td>0.000000</td>\n",
       "      <td>2.762000e+03</td>\n",
       "      <td>0.000000</td>\n",
       "      <td>0.000000</td>\n",
       "      <td>0.000000</td>\n",
       "      <td>0.000000</td>\n",
       "    </tr>\n",
       "    <tr>\n",
       "      <th>25%</th>\n",
       "      <td>874.500000</td>\n",
       "      <td>0.000000</td>\n",
       "      <td>1.416362e+08</td>\n",
       "      <td>13.000000</td>\n",
       "      <td>7.000000</td>\n",
       "      <td>13.000000</td>\n",
       "      <td>0.000000</td>\n",
       "    </tr>\n",
       "    <tr>\n",
       "      <th>50%</th>\n",
       "      <td>2216.500000</td>\n",
       "      <td>3.000000</td>\n",
       "      <td>2.905309e+08</td>\n",
       "      <td>34.000000</td>\n",
       "      <td>38.500000</td>\n",
       "      <td>44.000000</td>\n",
       "      <td>0.000000</td>\n",
       "    </tr>\n",
       "    <tr>\n",
       "      <th>75%</th>\n",
       "      <td>5573.750000</td>\n",
       "      <td>16.000000</td>\n",
       "      <td>6.738690e+08</td>\n",
       "      <td>88.000000</td>\n",
       "      <td>87.000000</td>\n",
       "      <td>164.250000</td>\n",
       "      <td>2.000000</td>\n",
       "    </tr>\n",
       "    <tr>\n",
       "      <th>max</th>\n",
       "      <td>52898.000000</td>\n",
       "      <td>147.000000</td>\n",
       "      <td>3.703895e+09</td>\n",
       "      <td>672.000000</td>\n",
       "      <td>275.000000</td>\n",
       "      <td>12367.000000</td>\n",
       "      <td>58.000000</td>\n",
       "    </tr>\n",
       "  </tbody>\n",
       "</table>\n",
       "</div>"
      ],
      "text/plain": [
       "       in_spotify_playlists  in_spotify_charts       streams  \\\n",
       "count            952.000000         952.000000  9.520000e+02   \n",
       "mean            5202.565126          12.022059  5.141374e+08   \n",
       "std             7901.400683          19.582405  5.668569e+08   \n",
       "min               31.000000           0.000000  2.762000e+03   \n",
       "25%              874.500000           0.000000  1.416362e+08   \n",
       "50%             2216.500000           3.000000  2.905309e+08   \n",
       "75%             5573.750000          16.000000  6.738690e+08   \n",
       "max            52898.000000         147.000000  3.703895e+09   \n",
       "\n",
       "       in_apple_playlists  in_apple_charts  in_deezer_playlists  \\\n",
       "count          952.000000       952.000000           952.000000   \n",
       "mean            67.866597        51.963235           385.535714   \n",
       "std             86.470591        50.628850          1131.078760   \n",
       "min              0.000000         0.000000             0.000000   \n",
       "25%             13.000000         7.000000            13.000000   \n",
       "50%             34.000000        38.500000            44.000000   \n",
       "75%             88.000000        87.000000           164.250000   \n",
       "max            672.000000       275.000000         12367.000000   \n",
       "\n",
       "       in_deezer_charts  \n",
       "count        952.000000  \n",
       "mean           2.669118  \n",
       "std            6.038152  \n",
       "min            0.000000  \n",
       "25%            0.000000  \n",
       "50%            0.000000  \n",
       "75%            2.000000  \n",
       "max           58.000000  "
      ]
     },
     "execution_count": 36,
     "metadata": {},
     "output_type": "execute_result"
    }
   ],
   "source": [
    "# continuous vars frequencies\n",
    "cols_continuous = ['in_spotify_playlists',\n",
    " 'in_spotify_charts',\n",
    " 'streams',\n",
    " 'in_apple_playlists',\n",
    " 'in_apple_charts',\n",
    " 'in_deezer_playlists',\n",
    " 'in_deezer_charts',\n",
    "#  'in_shazam_charts'\n",
    " ]\n",
    "\n",
    "df[cols_continuous].describe()\n"
   ]
  },
  {
   "cell_type": "markdown",
   "metadata": {},
   "source": [
    "# 4. Relationships in data"
   ]
  },
  {
   "cell_type": "code",
   "execution_count": 37,
   "metadata": {},
   "outputs": [
    {
     "data": {
      "text/html": [
       "<div>\n",
       "<style scoped>\n",
       "    .dataframe tbody tr th:only-of-type {\n",
       "        vertical-align: middle;\n",
       "    }\n",
       "\n",
       "    .dataframe tbody tr th {\n",
       "        vertical-align: top;\n",
       "    }\n",
       "\n",
       "    .dataframe thead th {\n",
       "        text-align: right;\n",
       "    }\n",
       "</style>\n",
       "<table border=\"1\" class=\"dataframe\">\n",
       "  <thead>\n",
       "    <tr style=\"text-align: right;\">\n",
       "      <th></th>\n",
       "      <th>artist_count</th>\n",
       "      <th>in_spotify_playlists</th>\n",
       "      <th>in_spotify_charts</th>\n",
       "      <th>streams</th>\n",
       "      <th>in_apple_playlists</th>\n",
       "      <th>in_apple_charts</th>\n",
       "      <th>in_deezer_playlists</th>\n",
       "      <th>in_deezer_charts</th>\n",
       "      <th>bpm</th>\n",
       "      <th>danceability_%</th>\n",
       "      <th>valence_%</th>\n",
       "      <th>energy_%</th>\n",
       "      <th>acousticness_%</th>\n",
       "      <th>instrumentalness_%</th>\n",
       "      <th>liveness_%</th>\n",
       "      <th>speechiness_%</th>\n",
       "    </tr>\n",
       "  </thead>\n",
       "  <tbody>\n",
       "    <tr>\n",
       "      <th>count</th>\n",
       "      <td>952.000000</td>\n",
       "      <td>952.000000</td>\n",
       "      <td>952.000000</td>\n",
       "      <td>9.520000e+02</td>\n",
       "      <td>952.000000</td>\n",
       "      <td>952.000000</td>\n",
       "      <td>952.000000</td>\n",
       "      <td>952.000000</td>\n",
       "      <td>952.000000</td>\n",
       "      <td>952.000000</td>\n",
       "      <td>952.000000</td>\n",
       "      <td>952.000000</td>\n",
       "      <td>952.000000</td>\n",
       "      <td>952.000000</td>\n",
       "      <td>952.000000</td>\n",
       "      <td>952.000000</td>\n",
       "    </tr>\n",
       "    <tr>\n",
       "      <th>mean</th>\n",
       "      <td>1.556723</td>\n",
       "      <td>5202.565126</td>\n",
       "      <td>12.022059</td>\n",
       "      <td>5.141374e+08</td>\n",
       "      <td>67.866597</td>\n",
       "      <td>51.963235</td>\n",
       "      <td>385.535714</td>\n",
       "      <td>2.669118</td>\n",
       "      <td>122.553571</td>\n",
       "      <td>66.984244</td>\n",
       "      <td>51.406513</td>\n",
       "      <td>64.274160</td>\n",
       "      <td>27.078782</td>\n",
       "      <td>1.582983</td>\n",
       "      <td>18.214286</td>\n",
       "      <td>10.138655</td>\n",
       "    </tr>\n",
       "    <tr>\n",
       "      <th>std</th>\n",
       "      <td>0.893331</td>\n",
       "      <td>7901.400683</td>\n",
       "      <td>19.582405</td>\n",
       "      <td>5.668569e+08</td>\n",
       "      <td>86.470591</td>\n",
       "      <td>50.628850</td>\n",
       "      <td>1131.078760</td>\n",
       "      <td>6.038152</td>\n",
       "      <td>28.069601</td>\n",
       "      <td>14.631282</td>\n",
       "      <td>23.480526</td>\n",
       "      <td>16.558517</td>\n",
       "      <td>26.001599</td>\n",
       "      <td>8.414064</td>\n",
       "      <td>13.718374</td>\n",
       "      <td>9.915399</td>\n",
       "    </tr>\n",
       "    <tr>\n",
       "      <th>min</th>\n",
       "      <td>1.000000</td>\n",
       "      <td>31.000000</td>\n",
       "      <td>0.000000</td>\n",
       "      <td>2.762000e+03</td>\n",
       "      <td>0.000000</td>\n",
       "      <td>0.000000</td>\n",
       "      <td>0.000000</td>\n",
       "      <td>0.000000</td>\n",
       "      <td>65.000000</td>\n",
       "      <td>23.000000</td>\n",
       "      <td>4.000000</td>\n",
       "      <td>9.000000</td>\n",
       "      <td>0.000000</td>\n",
       "      <td>0.000000</td>\n",
       "      <td>3.000000</td>\n",
       "      <td>2.000000</td>\n",
       "    </tr>\n",
       "    <tr>\n",
       "      <th>25%</th>\n",
       "      <td>1.000000</td>\n",
       "      <td>874.500000</td>\n",
       "      <td>0.000000</td>\n",
       "      <td>1.416362e+08</td>\n",
       "      <td>13.000000</td>\n",
       "      <td>7.000000</td>\n",
       "      <td>13.000000</td>\n",
       "      <td>0.000000</td>\n",
       "      <td>99.750000</td>\n",
       "      <td>57.000000</td>\n",
       "      <td>32.000000</td>\n",
       "      <td>53.000000</td>\n",
       "      <td>6.000000</td>\n",
       "      <td>0.000000</td>\n",
       "      <td>10.000000</td>\n",
       "      <td>4.000000</td>\n",
       "    </tr>\n",
       "    <tr>\n",
       "      <th>50%</th>\n",
       "      <td>1.000000</td>\n",
       "      <td>2216.500000</td>\n",
       "      <td>3.000000</td>\n",
       "      <td>2.905309e+08</td>\n",
       "      <td>34.000000</td>\n",
       "      <td>38.500000</td>\n",
       "      <td>44.000000</td>\n",
       "      <td>0.000000</td>\n",
       "      <td>121.000000</td>\n",
       "      <td>69.000000</td>\n",
       "      <td>51.000000</td>\n",
       "      <td>66.000000</td>\n",
       "      <td>18.000000</td>\n",
       "      <td>0.000000</td>\n",
       "      <td>12.000000</td>\n",
       "      <td>6.000000</td>\n",
       "    </tr>\n",
       "    <tr>\n",
       "      <th>75%</th>\n",
       "      <td>2.000000</td>\n",
       "      <td>5573.750000</td>\n",
       "      <td>16.000000</td>\n",
       "      <td>6.738690e+08</td>\n",
       "      <td>88.000000</td>\n",
       "      <td>87.000000</td>\n",
       "      <td>164.250000</td>\n",
       "      <td>2.000000</td>\n",
       "      <td>140.250000</td>\n",
       "      <td>78.000000</td>\n",
       "      <td>70.000000</td>\n",
       "      <td>77.000000</td>\n",
       "      <td>43.000000</td>\n",
       "      <td>0.000000</td>\n",
       "      <td>24.000000</td>\n",
       "      <td>11.000000</td>\n",
       "    </tr>\n",
       "    <tr>\n",
       "      <th>max</th>\n",
       "      <td>8.000000</td>\n",
       "      <td>52898.000000</td>\n",
       "      <td>147.000000</td>\n",
       "      <td>3.703895e+09</td>\n",
       "      <td>672.000000</td>\n",
       "      <td>275.000000</td>\n",
       "      <td>12367.000000</td>\n",
       "      <td>58.000000</td>\n",
       "      <td>206.000000</td>\n",
       "      <td>96.000000</td>\n",
       "      <td>97.000000</td>\n",
       "      <td>97.000000</td>\n",
       "      <td>97.000000</td>\n",
       "      <td>91.000000</td>\n",
       "      <td>97.000000</td>\n",
       "      <td>64.000000</td>\n",
       "    </tr>\n",
       "  </tbody>\n",
       "</table>\n",
       "</div>"
      ],
      "text/plain": [
       "       artist_count  in_spotify_playlists  in_spotify_charts       streams  \\\n",
       "count    952.000000            952.000000         952.000000  9.520000e+02   \n",
       "mean       1.556723           5202.565126          12.022059  5.141374e+08   \n",
       "std        0.893331           7901.400683          19.582405  5.668569e+08   \n",
       "min        1.000000             31.000000           0.000000  2.762000e+03   \n",
       "25%        1.000000            874.500000           0.000000  1.416362e+08   \n",
       "50%        1.000000           2216.500000           3.000000  2.905309e+08   \n",
       "75%        2.000000           5573.750000          16.000000  6.738690e+08   \n",
       "max        8.000000          52898.000000         147.000000  3.703895e+09   \n",
       "\n",
       "       in_apple_playlists  in_apple_charts  in_deezer_playlists  \\\n",
       "count          952.000000       952.000000           952.000000   \n",
       "mean            67.866597        51.963235           385.535714   \n",
       "std             86.470591        50.628850          1131.078760   \n",
       "min              0.000000         0.000000             0.000000   \n",
       "25%             13.000000         7.000000            13.000000   \n",
       "50%             34.000000        38.500000            44.000000   \n",
       "75%             88.000000        87.000000           164.250000   \n",
       "max            672.000000       275.000000         12367.000000   \n",
       "\n",
       "       in_deezer_charts         bpm  danceability_%   valence_%    energy_%  \\\n",
       "count        952.000000  952.000000      952.000000  952.000000  952.000000   \n",
       "mean           2.669118  122.553571       66.984244   51.406513   64.274160   \n",
       "std            6.038152   28.069601       14.631282   23.480526   16.558517   \n",
       "min            0.000000   65.000000       23.000000    4.000000    9.000000   \n",
       "25%            0.000000   99.750000       57.000000   32.000000   53.000000   \n",
       "50%            0.000000  121.000000       69.000000   51.000000   66.000000   \n",
       "75%            2.000000  140.250000       78.000000   70.000000   77.000000   \n",
       "max           58.000000  206.000000       96.000000   97.000000   97.000000   \n",
       "\n",
       "       acousticness_%  instrumentalness_%  liveness_%  speechiness_%  \n",
       "count      952.000000          952.000000  952.000000     952.000000  \n",
       "mean        27.078782            1.582983   18.214286      10.138655  \n",
       "std         26.001599            8.414064   13.718374       9.915399  \n",
       "min          0.000000            0.000000    3.000000       2.000000  \n",
       "25%          6.000000            0.000000   10.000000       4.000000  \n",
       "50%         18.000000            0.000000   12.000000       6.000000  \n",
       "75%         43.000000            0.000000   24.000000      11.000000  \n",
       "max         97.000000           91.000000   97.000000      64.000000  "
      ]
     },
     "execution_count": 37,
     "metadata": {},
     "output_type": "execute_result"
    }
   ],
   "source": [
    "# Get summary statistics of the numerical data\n",
    "df.describe()\n"
   ]
  },
  {
   "cell_type": "code",
   "execution_count": 38,
   "metadata": {},
   "outputs": [
    {
     "data": {
      "image/png": "[encoded data removed]",
      "text/plain": [
       "<Figure size 800x550 with 2 Axes>"
      ]
     },
     "metadata": {},
     "output_type": "display_data"
    }
   ],
   "source": [
    "#Looking at correlation between variables\n",
    "\n",
    "# creating mask to hide redundant information\n",
    "mask = np.triu(np.ones_like(df.corr(numeric_only=True)))\n",
    "  \n",
    "# plotting correlation heatmap \n",
    "sns.heatmap(df.corr(numeric_only=True), cmap=\"YlGnBu\", annot=True, fmt='.1g', mask=mask, vmin = -1, vmax = 1)\n",
    "\n",
    "plt.show();\n"
   ]
  },
  {
   "cell_type": "code",
   "execution_count": 39,
   "metadata": {},
   "outputs": [
    {
     "name": "stdout",
     "output_type": "stream",
     "text": [
      "streams                 1.000000\n",
      "in_spotify_playlists    0.789822\n",
      "in_apple_playlists      0.772063\n",
      "in_deezer_playlists     0.598131\n",
      "in_apple_charts         0.320234\n",
      "in_spotify_charts       0.245821\n",
      "in_deezer_charts        0.228598\n",
      "bpm                    -0.002438\n",
      "acousticness_%         -0.004485\n",
      "energy_%               -0.026051\n",
      "valence_%              -0.040831\n",
      "instrumentalness_%     -0.044902\n",
      "liveness_%             -0.048337\n",
      "danceability_%         -0.105457\n",
      "speechiness_%          -0.112333\n",
      "artist_count           -0.136463\n",
      "Name: streams, dtype: float64\n"
     ]
    }
   ],
   "source": [
    "print(df.corr(numeric_only=True)[\"streams\"].sort_values(ascending=False))\n"
   ]
  },
  {
   "cell_type": "code",
   "execution_count": 40,
   "metadata": {},
   "outputs": [],
   "source": [
    "# dropping low correlated variables\n",
    "\n",
    "df.drop(columns= [\"bpm\", \"acousticness_%\", \"energy_%\", \"valence_%\", \"instrumentalness_%\", \"liveness_%\"], axis=1, inplace=True)\n"
   ]
  },
  {
   "cell_type": "code",
   "execution_count": 41,
   "metadata": {},
   "outputs": [
    {
     "data": {
      "text/html": [
       "<div>\n",
       "<style scoped>\n",
       "    .dataframe tbody tr th:only-of-type {\n",
       "        vertical-align: middle;\n",
       "    }\n",
       "\n",
       "    .dataframe tbody tr th {\n",
       "        vertical-align: top;\n",
       "    }\n",
       "\n",
       "    .dataframe thead th {\n",
       "        text-align: right;\n",
       "    }\n",
       "</style>\n",
       "<table border=\"1\" class=\"dataframe\">\n",
       "  <thead>\n",
       "    <tr style=\"text-align: right;\">\n",
       "      <th></th>\n",
       "      <th>artist_count</th>\n",
       "      <th>in_spotify_playlists</th>\n",
       "      <th>in_spotify_charts</th>\n",
       "      <th>streams</th>\n",
       "      <th>in_apple_playlists</th>\n",
       "      <th>in_apple_charts</th>\n",
       "      <th>in_deezer_playlists</th>\n",
       "      <th>in_deezer_charts</th>\n",
       "      <th>mode</th>\n",
       "      <th>danceability_%</th>\n",
       "      <th>speechiness_%</th>\n",
       "      <th>released_season</th>\n",
       "    </tr>\n",
       "  </thead>\n",
       "  <tbody>\n",
       "    <tr>\n",
       "      <th>0</th>\n",
       "      <td>2</td>\n",
       "      <td>553</td>\n",
       "      <td>147</td>\n",
       "      <td>141381703</td>\n",
       "      <td>43</td>\n",
       "      <td>263</td>\n",
       "      <td>45</td>\n",
       "      <td>10</td>\n",
       "      <td>Major</td>\n",
       "      <td>80</td>\n",
       "      <td>4</td>\n",
       "      <td>Summer</td>\n",
       "    </tr>\n",
       "    <tr>\n",
       "      <th>1</th>\n",
       "      <td>1</td>\n",
       "      <td>1474</td>\n",
       "      <td>48</td>\n",
       "      <td>133716286</td>\n",
       "      <td>48</td>\n",
       "      <td>126</td>\n",
       "      <td>58</td>\n",
       "      <td>14</td>\n",
       "      <td>Major</td>\n",
       "      <td>71</td>\n",
       "      <td>4</td>\n",
       "      <td>Winter</td>\n",
       "    </tr>\n",
       "    <tr>\n",
       "      <th>2</th>\n",
       "      <td>1</td>\n",
       "      <td>1397</td>\n",
       "      <td>113</td>\n",
       "      <td>140003974</td>\n",
       "      <td>94</td>\n",
       "      <td>207</td>\n",
       "      <td>91</td>\n",
       "      <td>14</td>\n",
       "      <td>Major</td>\n",
       "      <td>51</td>\n",
       "      <td>6</td>\n",
       "      <td>Summer</td>\n",
       "    </tr>\n",
       "    <tr>\n",
       "      <th>3</th>\n",
       "      <td>1</td>\n",
       "      <td>7858</td>\n",
       "      <td>100</td>\n",
       "      <td>800840817</td>\n",
       "      <td>116</td>\n",
       "      <td>207</td>\n",
       "      <td>125</td>\n",
       "      <td>12</td>\n",
       "      <td>Major</td>\n",
       "      <td>55</td>\n",
       "      <td>15</td>\n",
       "      <td>Summer</td>\n",
       "    </tr>\n",
       "    <tr>\n",
       "      <th>4</th>\n",
       "      <td>1</td>\n",
       "      <td>3133</td>\n",
       "      <td>50</td>\n",
       "      <td>303236322</td>\n",
       "      <td>84</td>\n",
       "      <td>133</td>\n",
       "      <td>87</td>\n",
       "      <td>15</td>\n",
       "      <td>Minor</td>\n",
       "      <td>65</td>\n",
       "      <td>6</td>\n",
       "      <td>Spring</td>\n",
       "    </tr>\n",
       "  </tbody>\n",
       "</table>\n",
       "</div>"
      ],
      "text/plain": [
       "   artist_count  in_spotify_playlists  in_spotify_charts    streams  \\\n",
       "0             2                   553                147  141381703   \n",
       "1             1                  1474                 48  133716286   \n",
       "2             1                  1397                113  140003974   \n",
       "3             1                  7858                100  800840817   \n",
       "4             1                  3133                 50  303236322   \n",
       "\n",
       "   in_apple_playlists  in_apple_charts  in_deezer_playlists  in_deezer_charts  \\\n",
       "0                  43              263                   45                10   \n",
       "1                  48              126                   58                14   \n",
       "2                  94              207                   91                14   \n",
       "3                 116              207                  125                12   \n",
       "4                  84              133                   87                15   \n",
       "\n",
       "    mode  danceability_%  speechiness_% released_season  \n",
       "0  Major              80              4          Summer  \n",
       "1  Major              71              4          Winter  \n",
       "2  Major              51              6          Summer  \n",
       "3  Major              55             15          Summer  \n",
       "4  Minor              65              6          Spring  "
      ]
     },
     "execution_count": 41,
     "metadata": {},
     "output_type": "execute_result"
    }
   ],
   "source": [
    "df.head()\n"
   ]
  },
  {
   "cell_type": "code",
   "execution_count": 42,
   "metadata": {},
   "outputs": [
    {
     "data": {
      "image/png": "[encoded data removed]",
      "text/plain": [
       "<Figure size 2500x250 with 11 Axes>"
      ]
     },
     "metadata": {},
     "output_type": "display_data"
    }
   ],
   "source": [
    "sns.pairplot(data = df, y_vars = 'streams')  \n",
    "plt.show();\n"
   ]
  },
  {
   "cell_type": "markdown",
   "metadata": {},
   "source": [
    "For our Linear Regression Model, we are only going to use as features the ones that have a linear relationship with our target (streams), plus the categorical variables (released_season, mode)"
   ]
  },
  {
   "cell_type": "markdown",
   "metadata": {},
   "source": [
    "# 5. Other considerations\n"
   ]
  },
  {
   "cell_type": "code",
   "execution_count": 43,
   "metadata": {},
   "outputs": [],
   "source": [
    "#We drop the columns that we won´t use\n",
    "\n",
    "df.drop(columns= [\"artist_count\", \"in_spotify_charts\", \"in_apple_charts\", \"in_deezer_charts\", \"danceability_%\",  \"speechiness_%\"], axis=1, inplace=True)\n"
   ]
  },
  {
   "cell_type": "code",
   "execution_count": 46,
   "metadata": {},
   "outputs": [
    {
     "data": {
      "text/html": [
       "<div>\n",
       "<style scoped>\n",
       "    .dataframe tbody tr th:only-of-type {\n",
       "        vertical-align: middle;\n",
       "    }\n",
       "\n",
       "    .dataframe tbody tr th {\n",
       "        vertical-align: top;\n",
       "    }\n",
       "\n",
       "    .dataframe thead th {\n",
       "        text-align: right;\n",
       "    }\n",
       "</style>\n",
       "<table border=\"1\" class=\"dataframe\">\n",
       "  <thead>\n",
       "    <tr style=\"text-align: right;\">\n",
       "      <th></th>\n",
       "      <th>in_spotify_playlists</th>\n",
       "      <th>streams</th>\n",
       "      <th>in_apple_playlists</th>\n",
       "      <th>in_deezer_playlists</th>\n",
       "      <th>mode</th>\n",
       "      <th>released_season</th>\n",
       "    </tr>\n",
       "  </thead>\n",
       "  <tbody>\n",
       "    <tr>\n",
       "      <th>0</th>\n",
       "      <td>553</td>\n",
       "      <td>141381703</td>\n",
       "      <td>43</td>\n",
       "      <td>45</td>\n",
       "      <td>Major</td>\n",
       "      <td>Summer</td>\n",
       "    </tr>\n",
       "    <tr>\n",
       "      <th>1</th>\n",
       "      <td>1474</td>\n",
       "      <td>133716286</td>\n",
       "      <td>48</td>\n",
       "      <td>58</td>\n",
       "      <td>Major</td>\n",
       "      <td>Winter</td>\n",
       "    </tr>\n",
       "    <tr>\n",
       "      <th>2</th>\n",
       "      <td>1397</td>\n",
       "      <td>140003974</td>\n",
       "      <td>94</td>\n",
       "      <td>91</td>\n",
       "      <td>Major</td>\n",
       "      <td>Summer</td>\n",
       "    </tr>\n",
       "    <tr>\n",
       "      <th>3</th>\n",
       "      <td>7858</td>\n",
       "      <td>800840817</td>\n",
       "      <td>116</td>\n",
       "      <td>125</td>\n",
       "      <td>Major</td>\n",
       "      <td>Summer</td>\n",
       "    </tr>\n",
       "    <tr>\n",
       "      <th>4</th>\n",
       "      <td>3133</td>\n",
       "      <td>303236322</td>\n",
       "      <td>84</td>\n",
       "      <td>87</td>\n",
       "      <td>Minor</td>\n",
       "      <td>Spring</td>\n",
       "    </tr>\n",
       "  </tbody>\n",
       "</table>\n",
       "</div>"
      ],
      "text/plain": [
       "   in_spotify_playlists    streams  in_apple_playlists  in_deezer_playlists  \\\n",
       "0                   553  141381703                  43                   45   \n",
       "1                  1474  133716286                  48                   58   \n",
       "2                  1397  140003974                  94                   91   \n",
       "3                  7858  800840817                 116                  125   \n",
       "4                  3133  303236322                  84                   87   \n",
       "\n",
       "    mode released_season  \n",
       "0  Major          Summer  \n",
       "1  Major          Winter  \n",
       "2  Major          Summer  \n",
       "3  Major          Summer  \n",
       "4  Minor          Spring  "
      ]
     },
     "execution_count": 46,
     "metadata": {},
     "output_type": "execute_result"
    }
   ],
   "source": [
    "df.head()\n"
   ]
  },
  {
   "cell_type": "code",
   "execution_count": 47,
   "metadata": {},
   "outputs": [
    {
     "data": {
      "image/png": "[encoded data removed]",
      "text/plain": [
       "<Figure size 1000x250 with 5 Axes>"
      ]
     },
     "metadata": {},
     "output_type": "display_data"
    }
   ],
   "source": [
    "sns.pairplot(data = df, y_vars = 'streams')  \n",
    "plt.show();\n"
   ]
  },
  {
   "cell_type": "code",
   "execution_count": 48,
   "metadata": {},
   "outputs": [
    {
     "data": {
      "text/plain": [
       "<Axes: xlabel='streams', ylabel='Count'>"
      ]
     },
     "execution_count": 48,
     "metadata": {},
     "output_type": "execute_result"
    },
    {
     "data": {
      "image/png": "[encoded data removed]",
      "text/plain": [
       "<Figure size 800x550 with 1 Axes>"
      ]
     },
     "metadata": {},
     "output_type": "display_data"
    }
   ],
   "source": [
    "#handling outliers, as Linear regression is pretty sensitive to them\n",
    "\n",
    "#Our target variable is positively (right) skweed\n",
    "sns.histplot(df['streams'])\n"
   ]
  },
  {
   "cell_type": "code",
   "execution_count": 49,
   "metadata": {},
   "outputs": [
    {
     "data": {
      "text/html": [
       "<div>\n",
       "<style scoped>\n",
       "    .dataframe tbody tr th:only-of-type {\n",
       "        vertical-align: middle;\n",
       "    }\n",
       "\n",
       "    .dataframe tbody tr th {\n",
       "        vertical-align: top;\n",
       "    }\n",
       "\n",
       "    .dataframe thead th {\n",
       "        text-align: right;\n",
       "    }\n",
       "</style>\n",
       "<table border=\"1\" class=\"dataframe\">\n",
       "  <thead>\n",
       "    <tr style=\"text-align: right;\">\n",
       "      <th></th>\n",
       "      <th>in_spotify_playlists</th>\n",
       "      <th>streams</th>\n",
       "      <th>in_apple_playlists</th>\n",
       "      <th>in_deezer_playlists</th>\n",
       "    </tr>\n",
       "  </thead>\n",
       "  <tbody>\n",
       "    <tr>\n",
       "      <th>count</th>\n",
       "      <td>952.000000</td>\n",
       "      <td>9.520000e+02</td>\n",
       "      <td>952.000000</td>\n",
       "      <td>952.000000</td>\n",
       "    </tr>\n",
       "    <tr>\n",
       "      <th>mean</th>\n",
       "      <td>5202.565126</td>\n",
       "      <td>5.141374e+08</td>\n",
       "      <td>67.866597</td>\n",
       "      <td>385.535714</td>\n",
       "    </tr>\n",
       "    <tr>\n",
       "      <th>std</th>\n",
       "      <td>7901.400683</td>\n",
       "      <td>5.668569e+08</td>\n",
       "      <td>86.470591</td>\n",
       "      <td>1131.078760</td>\n",
       "    </tr>\n",
       "    <tr>\n",
       "      <th>min</th>\n",
       "      <td>31.000000</td>\n",
       "      <td>2.762000e+03</td>\n",
       "      <td>0.000000</td>\n",
       "      <td>0.000000</td>\n",
       "    </tr>\n",
       "    <tr>\n",
       "      <th>25%</th>\n",
       "      <td>874.500000</td>\n",
       "      <td>1.416362e+08</td>\n",
       "      <td>13.000000</td>\n",
       "      <td>13.000000</td>\n",
       "    </tr>\n",
       "    <tr>\n",
       "      <th>50%</th>\n",
       "      <td>2216.500000</td>\n",
       "      <td>2.905309e+08</td>\n",
       "      <td>34.000000</td>\n",
       "      <td>44.000000</td>\n",
       "    </tr>\n",
       "    <tr>\n",
       "      <th>75%</th>\n",
       "      <td>5573.750000</td>\n",
       "      <td>6.738690e+08</td>\n",
       "      <td>88.000000</td>\n",
       "      <td>164.250000</td>\n",
       "    </tr>\n",
       "    <tr>\n",
       "      <th>max</th>\n",
       "      <td>52898.000000</td>\n",
       "      <td>3.703895e+09</td>\n",
       "      <td>672.000000</td>\n",
       "      <td>12367.000000</td>\n",
       "    </tr>\n",
       "  </tbody>\n",
       "</table>\n",
       "</div>"
      ],
      "text/plain": [
       "       in_spotify_playlists       streams  in_apple_playlists  \\\n",
       "count            952.000000  9.520000e+02          952.000000   \n",
       "mean            5202.565126  5.141374e+08           67.866597   \n",
       "std             7901.400683  5.668569e+08           86.470591   \n",
       "min               31.000000  2.762000e+03            0.000000   \n",
       "25%              874.500000  1.416362e+08           13.000000   \n",
       "50%             2216.500000  2.905309e+08           34.000000   \n",
       "75%             5573.750000  6.738690e+08           88.000000   \n",
       "max            52898.000000  3.703895e+09          672.000000   \n",
       "\n",
       "       in_deezer_playlists  \n",
       "count           952.000000  \n",
       "mean            385.535714  \n",
       "std            1131.078760  \n",
       "min               0.000000  \n",
       "25%              13.000000  \n",
       "50%              44.000000  \n",
       "75%             164.250000  \n",
       "max           12367.000000  "
      ]
     },
     "execution_count": 49,
     "metadata": {},
     "output_type": "execute_result"
    }
   ],
   "source": [
    "df.describe()\n"
   ]
  },
  {
   "cell_type": "markdown",
   "metadata": {},
   "source": [
    "One common approach used for outlier detection is the Interquartile Range (IQR) which gives us an idea of how spread out the values in the middle of our data set are. \n",
    "\n",
    "This method works by sorting your dataset from the smallest to the largest values, then dividing in into four equal parts (called the quartiles). This leaves you with three points:\n",
    "- **Q1 (first quartile)** - The 25th percentile. 25 percent of the data falls below this point.\n",
    "- **Q2 (second quartile)** - The median. 50 percent of the data falls below and above this point.\n",
    "- **Q2 (second quartile)** - The 75th percentile. 75 percent of the data falls below this point.\n",
    "\n",
    "Using these points, you calculate the **Interquartile Range (IQR)** which is the range between the first and third quartiles"
   ]
  },
  {
   "cell_type": "code",
   "execution_count": 50,
   "metadata": {},
   "outputs": [
    {
     "name": "stdout",
     "output_type": "stream",
     "text": [
      "<class 'pandas.core.frame.DataFrame'>\n",
      "RangeIndex: 952 entries, 0 to 951\n",
      "Data columns (total 6 columns):\n",
      " #   Column                Non-Null Count  Dtype \n",
      "---  ------                --------------  ----- \n",
      " 0   in_spotify_playlists  952 non-null    int64 \n",
      " 1   streams               952 non-null    int64 \n",
      " 2   in_apple_playlists    952 non-null    int64 \n",
      " 3   in_deezer_playlists   952 non-null    int64 \n",
      " 4   mode                  952 non-null    object\n",
      " 5   released_season       952 non-null    object\n",
      "dtypes: int64(4), object(2)\n",
      "memory usage: 44.8+ KB\n"
     ]
    }
   ],
   "source": [
    "df.info()\n"
   ]
  },
  {
   "cell_type": "code",
   "execution_count": 51,
   "metadata": {},
   "outputs": [],
   "source": [
    "# Find the 75th and 25th percentiles\n",
    "stream_seventy_fifth = df[\"streams\"].quantile(0.75)\n",
    "stream_twenty_fifth = df[\"streams\"].quantile(0.25)\n",
    "\n",
    "# Calculate iqr\n",
    "streams_iqr = stream_seventy_fifth - stream_twenty_fifth\n",
    "\n",
    "# Calculate the thresholds\n",
    "upper = stream_seventy_fifth + (1.5 * streams_iqr)\n",
    "lower = stream_twenty_fifth - (1.5 * streams_iqr)\n",
    "\n",
    "# Subset the data\n",
    "df = df[(df[\"streams\"] > lower) & (df[\"streams\"] < upper)]\n"
   ]
  },
  {
   "cell_type": "code",
   "execution_count": 52,
   "metadata": {},
   "outputs": [
    {
     "name": "stdout",
     "output_type": "stream",
     "text": [
      "<class 'pandas.core.frame.DataFrame'>\n",
      "Index: 878 entries, 0 to 951\n",
      "Data columns (total 6 columns):\n",
      " #   Column                Non-Null Count  Dtype \n",
      "---  ------                --------------  ----- \n",
      " 0   in_spotify_playlists  878 non-null    int64 \n",
      " 1   streams               878 non-null    int64 \n",
      " 2   in_apple_playlists    878 non-null    int64 \n",
      " 3   in_deezer_playlists   878 non-null    int64 \n",
      " 4   mode                  878 non-null    object\n",
      " 5   released_season       878 non-null    object\n",
      "dtypes: int64(4), object(2)\n",
      "memory usage: 48.0+ KB\n"
     ]
    }
   ],
   "source": [
    "df.info()\n"
   ]
  },
  {
   "cell_type": "code",
   "execution_count": 55,
   "metadata": {},
   "outputs": [
    {
     "data": {
      "text/html": [
       "<div>\n",
       "<style scoped>\n",
       "    .dataframe tbody tr th:only-of-type {\n",
       "        vertical-align: middle;\n",
       "    }\n",
       "\n",
       "    .dataframe tbody tr th {\n",
       "        vertical-align: top;\n",
       "    }\n",
       "\n",
       "    .dataframe thead th {\n",
       "        text-align: right;\n",
       "    }\n",
       "</style>\n",
       "<table border=\"1\" class=\"dataframe\">\n",
       "  <thead>\n",
       "    <tr style=\"text-align: right;\">\n",
       "      <th></th>\n",
       "      <th>in_spotify_playlists</th>\n",
       "      <th>streams</th>\n",
       "      <th>in_apple_playlists</th>\n",
       "      <th>in_deezer_playlists</th>\n",
       "    </tr>\n",
       "  </thead>\n",
       "  <tbody>\n",
       "    <tr>\n",
       "      <th>count</th>\n",
       "      <td>878.000000</td>\n",
       "      <td>8.780000e+02</td>\n",
       "      <td>878.000000</td>\n",
       "      <td>878.000000</td>\n",
       "    </tr>\n",
       "    <tr>\n",
       "      <th>mean</th>\n",
       "      <td>3709.158314</td>\n",
       "      <td>3.864873e+08</td>\n",
       "      <td>52.382688</td>\n",
       "      <td>197.282460</td>\n",
       "    </tr>\n",
       "    <tr>\n",
       "      <th>std</th>\n",
       "      <td>5325.048172</td>\n",
       "      <td>3.469503e+08</td>\n",
       "      <td>58.081386</td>\n",
       "      <td>702.389481</td>\n",
       "    </tr>\n",
       "    <tr>\n",
       "      <th>min</th>\n",
       "      <td>31.000000</td>\n",
       "      <td>2.762000e+03</td>\n",
       "      <td>0.000000</td>\n",
       "      <td>0.000000</td>\n",
       "    </tr>\n",
       "    <tr>\n",
       "      <th>25%</th>\n",
       "      <td>824.750000</td>\n",
       "      <td>1.344907e+08</td>\n",
       "      <td>12.000000</td>\n",
       "      <td>12.000000</td>\n",
       "    </tr>\n",
       "    <tr>\n",
       "      <th>50%</th>\n",
       "      <td>1940.500000</td>\n",
       "      <td>2.599158e+08</td>\n",
       "      <td>29.500000</td>\n",
       "      <td>37.500000</td>\n",
       "    </tr>\n",
       "    <tr>\n",
       "      <th>75%</th>\n",
       "      <td>4437.750000</td>\n",
       "      <td>5.366705e+08</td>\n",
       "      <td>73.000000</td>\n",
       "      <td>114.000000</td>\n",
       "    </tr>\n",
       "    <tr>\n",
       "      <th>max</th>\n",
       "      <td>52898.000000</td>\n",
       "      <td>1.457139e+09</td>\n",
       "      <td>387.000000</td>\n",
       "      <td>8215.000000</td>\n",
       "    </tr>\n",
       "  </tbody>\n",
       "</table>\n",
       "</div>"
      ],
      "text/plain": [
       "       in_spotify_playlists       streams  in_apple_playlists  \\\n",
       "count            878.000000  8.780000e+02          878.000000   \n",
       "mean            3709.158314  3.864873e+08           52.382688   \n",
       "std             5325.048172  3.469503e+08           58.081386   \n",
       "min               31.000000  2.762000e+03            0.000000   \n",
       "25%              824.750000  1.344907e+08           12.000000   \n",
       "50%             1940.500000  2.599158e+08           29.500000   \n",
       "75%             4437.750000  5.366705e+08           73.000000   \n",
       "max            52898.000000  1.457139e+09          387.000000   \n",
       "\n",
       "       in_deezer_playlists  \n",
       "count           878.000000  \n",
       "mean            197.282460  \n",
       "std             702.389481  \n",
       "min               0.000000  \n",
       "25%              12.000000  \n",
       "50%              37.500000  \n",
       "75%             114.000000  \n",
       "max            8215.000000  "
      ]
     },
     "execution_count": 55,
     "metadata": {},
     "output_type": "execute_result"
    }
   ],
   "source": [
    "df.describe()\n"
   ]
  },
  {
   "cell_type": "code",
   "execution_count": 54,
   "metadata": {},
   "outputs": [
    {
     "data": {
      "text/html": [
       "<div>\n",
       "<style scoped>\n",
       "    .dataframe tbody tr th:only-of-type {\n",
       "        vertical-align: middle;\n",
       "    }\n",
       "\n",
       "    .dataframe tbody tr th {\n",
       "        vertical-align: top;\n",
       "    }\n",
       "\n",
       "    .dataframe thead th {\n",
       "        text-align: right;\n",
       "    }\n",
       "</style>\n",
       "<table border=\"1\" class=\"dataframe\">\n",
       "  <thead>\n",
       "    <tr style=\"text-align: right;\">\n",
       "      <th></th>\n",
       "      <th>in_spotify_playlists</th>\n",
       "      <th>streams</th>\n",
       "      <th>in_apple_playlists</th>\n",
       "      <th>in_deezer_playlists</th>\n",
       "      <th>mode</th>\n",
       "      <th>released_season</th>\n",
       "    </tr>\n",
       "  </thead>\n",
       "  <tbody>\n",
       "    <tr>\n",
       "      <th>0</th>\n",
       "      <td>-0.593038</td>\n",
       "      <td>-0.706860</td>\n",
       "      <td>-0.161636</td>\n",
       "      <td>-0.216930</td>\n",
       "      <td>Major</td>\n",
       "      <td>Summer</td>\n",
       "    </tr>\n",
       "    <tr>\n",
       "      <th>1</th>\n",
       "      <td>-0.419983</td>\n",
       "      <td>-0.728966</td>\n",
       "      <td>-0.075501</td>\n",
       "      <td>-0.198411</td>\n",
       "      <td>Major</td>\n",
       "      <td>Winter</td>\n",
       "    </tr>\n",
       "    <tr>\n",
       "      <th>2</th>\n",
       "      <td>-0.434452</td>\n",
       "      <td>-0.710833</td>\n",
       "      <td>0.716943</td>\n",
       "      <td>-0.151402</td>\n",
       "      <td>Major</td>\n",
       "      <td>Summer</td>\n",
       "    </tr>\n",
       "    <tr>\n",
       "      <th>3</th>\n",
       "      <td>0.779562</td>\n",
       "      <td>1.194954</td>\n",
       "      <td>1.095938</td>\n",
       "      <td>-0.102968</td>\n",
       "      <td>Major</td>\n",
       "      <td>Summer</td>\n",
       "    </tr>\n",
       "    <tr>\n",
       "      <th>4</th>\n",
       "      <td>-0.108259</td>\n",
       "      <td>-0.240087</td>\n",
       "      <td>0.544672</td>\n",
       "      <td>-0.157100</td>\n",
       "      <td>Minor</td>\n",
       "      <td>Spring</td>\n",
       "    </tr>\n",
       "  </tbody>\n",
       "</table>\n",
       "</div>"
      ],
      "text/plain": [
       "   in_spotify_playlists   streams  in_apple_playlists  in_deezer_playlists  \\\n",
       "0             -0.593038 -0.706860           -0.161636            -0.216930   \n",
       "1             -0.419983 -0.728966           -0.075501            -0.198411   \n",
       "2             -0.434452 -0.710833            0.716943            -0.151402   \n",
       "3              0.779562  1.194954            1.095938            -0.102968   \n",
       "4             -0.108259 -0.240087            0.544672            -0.157100   \n",
       "\n",
       "    mode released_season  \n",
       "0  Major          Summer  \n",
       "1  Major          Winter  \n",
       "2  Major          Summer  \n",
       "3  Major          Summer  \n",
       "4  Minor          Spring  "
      ]
     },
     "execution_count": 54,
     "metadata": {},
     "output_type": "execute_result"
    }
   ],
   "source": [
    "#Scale Numerical Data with StandardScaler()\n",
    "\n",
    "from sklearn.preprocessing import StandardScaler\n",
    "\n",
    "# Copying original dataframe\n",
    "df_z = df.copy()\n",
    "\n",
    "scaler = StandardScaler()\n",
    "num_cols = df_z.select_dtypes(include=np.number).columns\n",
    "\n",
    "df_z[num_cols] = scaler.fit_transform(df[num_cols])\n",
    "\n",
    "df_z.head()\n"
   ]
  },
  {
   "cell_type": "code",
   "execution_count": 56,
   "metadata": {},
   "outputs": [
    {
     "data": {
      "text/html": [
       "<div>\n",
       "<style scoped>\n",
       "    .dataframe tbody tr th:only-of-type {\n",
       "        vertical-align: middle;\n",
       "    }\n",
       "\n",
       "    .dataframe tbody tr th {\n",
       "        vertical-align: top;\n",
       "    }\n",
       "\n",
       "    .dataframe thead th {\n",
       "        text-align: right;\n",
       "    }\n",
       "</style>\n",
       "<table border=\"1\" class=\"dataframe\">\n",
       "  <thead>\n",
       "    <tr style=\"text-align: right;\">\n",
       "      <th></th>\n",
       "      <th>in_spotify_playlists</th>\n",
       "      <th>streams</th>\n",
       "      <th>in_apple_playlists</th>\n",
       "      <th>in_deezer_playlists</th>\n",
       "      <th>mode</th>\n",
       "      <th>released_season</th>\n",
       "    </tr>\n",
       "  </thead>\n",
       "  <tbody>\n",
       "    <tr>\n",
       "      <th>947</th>\n",
       "      <td>-0.517879</td>\n",
       "      <td>-0.850791</td>\n",
       "      <td>0.148451</td>\n",
       "      <td>-0.228326</td>\n",
       "      <td>Major</td>\n",
       "      <td>Summer</td>\n",
       "    </tr>\n",
       "    <tr>\n",
       "      <th>948</th>\n",
       "      <td>-0.475226</td>\n",
       "      <td>-0.763124</td>\n",
       "      <td>-0.833490</td>\n",
       "      <td>-0.269637</td>\n",
       "      <td>Major</td>\n",
       "      <td>Summer</td>\n",
       "    </tr>\n",
       "    <tr>\n",
       "      <th>949</th>\n",
       "      <td>-0.589280</td>\n",
       "      <td>-0.902585</td>\n",
       "      <td>-0.867944</td>\n",
       "      <td>-0.271062</td>\n",
       "      <td>Major</td>\n",
       "      <td>Summer</td>\n",
       "    </tr>\n",
       "    <tr>\n",
       "      <th>950</th>\n",
       "      <td>-0.448920</td>\n",
       "      <td>-0.728449</td>\n",
       "      <td>-0.402814</td>\n",
       "      <td>-0.256817</td>\n",
       "      <td>Major</td>\n",
       "      <td>Summer</td>\n",
       "    </tr>\n",
       "    <tr>\n",
       "      <th>951</th>\n",
       "      <td>-0.550009</td>\n",
       "      <td>-0.837715</td>\n",
       "      <td>-0.437268</td>\n",
       "      <td>-0.235449</td>\n",
       "      <td>Minor</td>\n",
       "      <td>Summer</td>\n",
       "    </tr>\n",
       "  </tbody>\n",
       "</table>\n",
       "</div>"
      ],
      "text/plain": [
       "     in_spotify_playlists   streams  in_apple_playlists  in_deezer_playlists  \\\n",
       "947             -0.517879 -0.850791            0.148451            -0.228326   \n",
       "948             -0.475226 -0.763124           -0.833490            -0.269637   \n",
       "949             -0.589280 -0.902585           -0.867944            -0.271062   \n",
       "950             -0.448920 -0.728449           -0.402814            -0.256817   \n",
       "951             -0.550009 -0.837715           -0.437268            -0.235449   \n",
       "\n",
       "      mode released_season  \n",
       "947  Major          Summer  \n",
       "948  Major          Summer  \n",
       "949  Major          Summer  \n",
       "950  Major          Summer  \n",
       "951  Minor          Summer  "
      ]
     },
     "execution_count": 56,
     "metadata": {},
     "output_type": "execute_result"
    }
   ],
   "source": [
    "df_z.tail()\n"
   ]
  },
  {
   "cell_type": "code",
   "execution_count": 57,
   "metadata": {},
   "outputs": [],
   "source": [
    "df_dummy = pd.get_dummies(df_z)\n"
   ]
  },
  {
   "cell_type": "code",
   "execution_count": 58,
   "metadata": {},
   "outputs": [
    {
     "data": {
      "text/html": [
       "<div>\n",
       "<style scoped>\n",
       "    .dataframe tbody tr th:only-of-type {\n",
       "        vertical-align: middle;\n",
       "    }\n",
       "\n",
       "    .dataframe tbody tr th {\n",
       "        vertical-align: top;\n",
       "    }\n",
       "\n",
       "    .dataframe thead th {\n",
       "        text-align: right;\n",
       "    }\n",
       "</style>\n",
       "<table border=\"1\" class=\"dataframe\">\n",
       "  <thead>\n",
       "    <tr style=\"text-align: right;\">\n",
       "      <th></th>\n",
       "      <th>in_spotify_playlists</th>\n",
       "      <th>streams</th>\n",
       "      <th>in_apple_playlists</th>\n",
       "      <th>in_deezer_playlists</th>\n",
       "      <th>mode_Major</th>\n",
       "      <th>mode_Minor</th>\n",
       "      <th>released_season_Spring</th>\n",
       "      <th>released_season_Summer</th>\n",
       "      <th>released_season_Winter</th>\n",
       "    </tr>\n",
       "  </thead>\n",
       "  <tbody>\n",
       "    <tr>\n",
       "      <th>0</th>\n",
       "      <td>-0.593038</td>\n",
       "      <td>-0.706860</td>\n",
       "      <td>-0.161636</td>\n",
       "      <td>-0.216930</td>\n",
       "      <td>True</td>\n",
       "      <td>False</td>\n",
       "      <td>False</td>\n",
       "      <td>True</td>\n",
       "      <td>False</td>\n",
       "    </tr>\n",
       "    <tr>\n",
       "      <th>1</th>\n",
       "      <td>-0.419983</td>\n",
       "      <td>-0.728966</td>\n",
       "      <td>-0.075501</td>\n",
       "      <td>-0.198411</td>\n",
       "      <td>True</td>\n",
       "      <td>False</td>\n",
       "      <td>False</td>\n",
       "      <td>False</td>\n",
       "      <td>True</td>\n",
       "    </tr>\n",
       "    <tr>\n",
       "      <th>2</th>\n",
       "      <td>-0.434452</td>\n",
       "      <td>-0.710833</td>\n",
       "      <td>0.716943</td>\n",
       "      <td>-0.151402</td>\n",
       "      <td>True</td>\n",
       "      <td>False</td>\n",
       "      <td>False</td>\n",
       "      <td>True</td>\n",
       "      <td>False</td>\n",
       "    </tr>\n",
       "    <tr>\n",
       "      <th>3</th>\n",
       "      <td>0.779562</td>\n",
       "      <td>1.194954</td>\n",
       "      <td>1.095938</td>\n",
       "      <td>-0.102968</td>\n",
       "      <td>True</td>\n",
       "      <td>False</td>\n",
       "      <td>False</td>\n",
       "      <td>True</td>\n",
       "      <td>False</td>\n",
       "    </tr>\n",
       "    <tr>\n",
       "      <th>4</th>\n",
       "      <td>-0.108259</td>\n",
       "      <td>-0.240087</td>\n",
       "      <td>0.544672</td>\n",
       "      <td>-0.157100</td>\n",
       "      <td>False</td>\n",
       "      <td>True</td>\n",
       "      <td>True</td>\n",
       "      <td>False</td>\n",
       "      <td>False</td>\n",
       "    </tr>\n",
       "    <tr>\n",
       "      <th>...</th>\n",
       "      <td>...</td>\n",
       "      <td>...</td>\n",
       "      <td>...</td>\n",
       "      <td>...</td>\n",
       "      <td>...</td>\n",
       "      <td>...</td>\n",
       "      <td>...</td>\n",
       "      <td>...</td>\n",
       "      <td>...</td>\n",
       "    </tr>\n",
       "    <tr>\n",
       "      <th>947</th>\n",
       "      <td>-0.517879</td>\n",
       "      <td>-0.850791</td>\n",
       "      <td>0.148451</td>\n",
       "      <td>-0.228326</td>\n",
       "      <td>True</td>\n",
       "      <td>False</td>\n",
       "      <td>False</td>\n",
       "      <td>True</td>\n",
       "      <td>False</td>\n",
       "    </tr>\n",
       "    <tr>\n",
       "      <th>948</th>\n",
       "      <td>-0.475226</td>\n",
       "      <td>-0.763124</td>\n",
       "      <td>-0.833490</td>\n",
       "      <td>-0.269637</td>\n",
       "      <td>True</td>\n",
       "      <td>False</td>\n",
       "      <td>False</td>\n",
       "      <td>True</td>\n",
       "      <td>False</td>\n",
       "    </tr>\n",
       "    <tr>\n",
       "      <th>949</th>\n",
       "      <td>-0.589280</td>\n",
       "      <td>-0.902585</td>\n",
       "      <td>-0.867944</td>\n",
       "      <td>-0.271062</td>\n",
       "      <td>True</td>\n",
       "      <td>False</td>\n",
       "      <td>False</td>\n",
       "      <td>True</td>\n",
       "      <td>False</td>\n",
       "    </tr>\n",
       "    <tr>\n",
       "      <th>950</th>\n",
       "      <td>-0.448920</td>\n",
       "      <td>-0.728449</td>\n",
       "      <td>-0.402814</td>\n",
       "      <td>-0.256817</td>\n",
       "      <td>True</td>\n",
       "      <td>False</td>\n",
       "      <td>False</td>\n",
       "      <td>True</td>\n",
       "      <td>False</td>\n",
       "    </tr>\n",
       "    <tr>\n",
       "      <th>951</th>\n",
       "      <td>-0.550009</td>\n",
       "      <td>-0.837715</td>\n",
       "      <td>-0.437268</td>\n",
       "      <td>-0.235449</td>\n",
       "      <td>False</td>\n",
       "      <td>True</td>\n",
       "      <td>False</td>\n",
       "      <td>True</td>\n",
       "      <td>False</td>\n",
       "    </tr>\n",
       "  </tbody>\n",
       "</table>\n",
       "<p>878 rows × 9 columns</p>\n",
       "</div>"
      ],
      "text/plain": [
       "     in_spotify_playlists   streams  in_apple_playlists  in_deezer_playlists  \\\n",
       "0               -0.593038 -0.706860           -0.161636            -0.216930   \n",
       "1               -0.419983 -0.728966           -0.075501            -0.198411   \n",
       "2               -0.434452 -0.710833            0.716943            -0.151402   \n",
       "3                0.779562  1.194954            1.095938            -0.102968   \n",
       "4               -0.108259 -0.240087            0.544672            -0.157100   \n",
       "..                    ...       ...                 ...                  ...   \n",
       "947             -0.517879 -0.850791            0.148451            -0.228326   \n",
       "948             -0.475226 -0.763124           -0.833490            -0.269637   \n",
       "949             -0.589280 -0.902585           -0.867944            -0.271062   \n",
       "950             -0.448920 -0.728449           -0.402814            -0.256817   \n",
       "951             -0.550009 -0.837715           -0.437268            -0.235449   \n",
       "\n",
       "     mode_Major  mode_Minor  released_season_Spring  released_season_Summer  \\\n",
       "0          True       False                   False                    True   \n",
       "1          True       False                   False                   False   \n",
       "2          True       False                   False                    True   \n",
       "3          True       False                   False                    True   \n",
       "4         False        True                    True                   False   \n",
       "..          ...         ...                     ...                     ...   \n",
       "947        True       False                   False                    True   \n",
       "948        True       False                   False                    True   \n",
       "949        True       False                   False                    True   \n",
       "950        True       False                   False                    True   \n",
       "951       False        True                   False                    True   \n",
       "\n",
       "     released_season_Winter  \n",
       "0                     False  \n",
       "1                      True  \n",
       "2                     False  \n",
       "3                     False  \n",
       "4                     False  \n",
       "..                      ...  \n",
       "947                   False  \n",
       "948                   False  \n",
       "949                   False  \n",
       "950                   False  \n",
       "951                   False  \n",
       "\n",
       "[878 rows x 9 columns]"
      ]
     },
     "execution_count": 58,
     "metadata": {},
     "output_type": "execute_result"
    }
   ],
   "source": [
    "df_dummy\n"
   ]
  },
  {
   "cell_type": "code",
   "execution_count": null,
   "metadata": {},
   "outputs": [],
   "source": []
  },
  {
   "cell_type": "code",
   "execution_count": 59,
   "metadata": {},
   "outputs": [],
   "source": [
    "#Encoding categorical variables, done after standarization (so standarization was only applied on the \"original\" numerical columns)\n",
    "\n",
    "from sklearn.preprocessing import OneHotEncoder\n",
    "\n",
    "#One-hot-encoding\n",
    "\n",
    "#Extract categorical columns from the dataframe\n",
    "#Here we extract the columns with object datatype as they are the categorical columns\n",
    "categorical_columns = df_z.select_dtypes(include=['object']).columns.tolist()\n",
    "\n",
    "#Initialize OneHotEncoder\n",
    "encoder = OneHotEncoder(sparse_output=False)\n",
    "\n",
    "# Apply one-hot encoding to the categorical columns\n",
    "one_hot_encoded = encoder.fit_transform(df_z[categorical_columns])\n",
    "\n",
    "#Create a DataFrame with the one-hot encoded columns\n",
    "#We use get_feature_names_out() to get the column names for the encoded data\n",
    "one_hot_df = pd.DataFrame(one_hot_encoded, columns=encoder.get_feature_names_out(categorical_columns))\n",
    "\n",
    "# Concatenate the one-hot encoded dataframe with the original dataframe\n",
    "df_encoded = pd.concat([df_z, one_hot_df], axis=1)\n",
    "\n",
    "# Drop the original categorical columns\n",
    "df_encoded = df_encoded.drop(categorical_columns, axis=1)\n",
    "\n"
   ]
  },
  {
   "cell_type": "code",
   "execution_count": 60,
   "metadata": {},
   "outputs": [
    {
     "name": "stdout",
     "output_type": "stream",
     "text": [
      "<class 'pandas.core.frame.DataFrame'>\n",
      "Index: 951 entries, 0 to 870\n",
      "Data columns (total 9 columns):\n",
      " #   Column                  Non-Null Count  Dtype  \n",
      "---  ------                  --------------  -----  \n",
      " 0   in_spotify_playlists    878 non-null    float64\n",
      " 1   streams                 878 non-null    float64\n",
      " 2   in_apple_playlists      878 non-null    float64\n",
      " 3   in_deezer_playlists     878 non-null    float64\n",
      " 4   mode_Major              878 non-null    float64\n",
      " 5   mode_Minor              878 non-null    float64\n",
      " 6   released_season_Spring  878 non-null    float64\n",
      " 7   released_season_Summer  878 non-null    float64\n",
      " 8   released_season_Winter  878 non-null    float64\n",
      "dtypes: float64(9)\n",
      "memory usage: 74.3 KB\n"
     ]
    }
   ],
   "source": [
    "df_encoded.info()\n"
   ]
  },
  {
   "cell_type": "code",
   "execution_count": 61,
   "metadata": {},
   "outputs": [
    {
     "data": {
      "text/html": [
       "<div>\n",
       "<style scoped>\n",
       "    .dataframe tbody tr th:only-of-type {\n",
       "        vertical-align: middle;\n",
       "    }\n",
       "\n",
       "    .dataframe tbody tr th {\n",
       "        vertical-align: top;\n",
       "    }\n",
       "\n",
       "    .dataframe thead th {\n",
       "        text-align: right;\n",
       "    }\n",
       "</style>\n",
       "<table border=\"1\" class=\"dataframe\">\n",
       "  <thead>\n",
       "    <tr style=\"text-align: right;\">\n",
       "      <th></th>\n",
       "      <th>in_spotify_playlists</th>\n",
       "      <th>streams</th>\n",
       "      <th>in_apple_playlists</th>\n",
       "      <th>in_deezer_playlists</th>\n",
       "      <th>mode_Major</th>\n",
       "      <th>mode_Minor</th>\n",
       "      <th>released_season_Spring</th>\n",
       "      <th>released_season_Summer</th>\n",
       "      <th>released_season_Winter</th>\n",
       "    </tr>\n",
       "  </thead>\n",
       "  <tbody>\n",
       "    <tr>\n",
       "      <th>724</th>\n",
       "      <td>NaN</td>\n",
       "      <td>NaN</td>\n",
       "      <td>NaN</td>\n",
       "      <td>NaN</td>\n",
       "      <td>1.0</td>\n",
       "      <td>0.0</td>\n",
       "      <td>1.0</td>\n",
       "      <td>0.0</td>\n",
       "      <td>0.0</td>\n",
       "    </tr>\n",
       "    <tr>\n",
       "      <th>753</th>\n",
       "      <td>NaN</td>\n",
       "      <td>NaN</td>\n",
       "      <td>NaN</td>\n",
       "      <td>NaN</td>\n",
       "      <td>1.0</td>\n",
       "      <td>0.0</td>\n",
       "      <td>0.0</td>\n",
       "      <td>1.0</td>\n",
       "      <td>0.0</td>\n",
       "    </tr>\n",
       "    <tr>\n",
       "      <th>760</th>\n",
       "      <td>NaN</td>\n",
       "      <td>NaN</td>\n",
       "      <td>NaN</td>\n",
       "      <td>NaN</td>\n",
       "      <td>1.0</td>\n",
       "      <td>0.0</td>\n",
       "      <td>0.0</td>\n",
       "      <td>1.0</td>\n",
       "      <td>0.0</td>\n",
       "    </tr>\n",
       "    <tr>\n",
       "      <th>761</th>\n",
       "      <td>NaN</td>\n",
       "      <td>NaN</td>\n",
       "      <td>NaN</td>\n",
       "      <td>NaN</td>\n",
       "      <td>0.0</td>\n",
       "      <td>1.0</td>\n",
       "      <td>1.0</td>\n",
       "      <td>0.0</td>\n",
       "      <td>0.0</td>\n",
       "    </tr>\n",
       "    <tr>\n",
       "      <th>870</th>\n",
       "      <td>NaN</td>\n",
       "      <td>NaN</td>\n",
       "      <td>NaN</td>\n",
       "      <td>NaN</td>\n",
       "      <td>0.0</td>\n",
       "      <td>1.0</td>\n",
       "      <td>0.0</td>\n",
       "      <td>1.0</td>\n",
       "      <td>0.0</td>\n",
       "    </tr>\n",
       "  </tbody>\n",
       "</table>\n",
       "</div>"
      ],
      "text/plain": [
       "     in_spotify_playlists  streams  in_apple_playlists  in_deezer_playlists  \\\n",
       "724                   NaN      NaN                 NaN                  NaN   \n",
       "753                   NaN      NaN                 NaN                  NaN   \n",
       "760                   NaN      NaN                 NaN                  NaN   \n",
       "761                   NaN      NaN                 NaN                  NaN   \n",
       "870                   NaN      NaN                 NaN                  NaN   \n",
       "\n",
       "     mode_Major  mode_Minor  released_season_Spring  released_season_Summer  \\\n",
       "724         1.0         0.0                     1.0                     0.0   \n",
       "753         1.0         0.0                     0.0                     1.0   \n",
       "760         1.0         0.0                     0.0                     1.0   \n",
       "761         0.0         1.0                     1.0                     0.0   \n",
       "870         0.0         1.0                     0.0                     1.0   \n",
       "\n",
       "     released_season_Winter  \n",
       "724                     0.0  \n",
       "753                     0.0  \n",
       "760                     0.0  \n",
       "761                     0.0  \n",
       "870                     0.0  "
      ]
     },
     "execution_count": 61,
     "metadata": {},
     "output_type": "execute_result"
    }
   ],
   "source": [
    "df_encoded.tail()\n"
   ]
  },
  {
   "cell_type": "code",
   "execution_count": null,
   "metadata": {},
   "outputs": [],
   "source": [
    "# TODO drop mode_Minor as mode is either Major or Minor making thse 2 cols co-linear\n"
   ]
  },
  {
   "cell_type": "markdown",
   "metadata": {},
   "source": [
    "# Linear Regression Machine Learning Model"
   ]
  },
  {
   "cell_type": "markdown",
   "metadata": {},
   "source": [
    "##  Specifying Feature and Target variables for our model and spliting the sample into training and testing sets"
   ]
  },
  {
   "cell_type": "code",
   "execution_count": 62,
   "metadata": {},
   "outputs": [
    {
     "name": "stdout",
     "output_type": "stream",
     "text": [
      "Shape of training feature: (702, 8)\n",
      "Shape of testing feature: (176, 8)\n",
      "Shape of training label: (702,)\n",
      "Shape of testing label: (176,)\n"
     ]
    }
   ],
   "source": [
    "# Select Features\n",
    "X = df_dummy.drop('streams', axis=1)\n",
    "\n",
    "# Select Target\n",
    "y = df_dummy['streams']\n",
    "\n",
    "# Set Training and Testing Data\n",
    "\n",
    "X_train, X_test, y_train, y_test = train_test_split(X, y, \n",
    "                                                    shuffle = True, \n",
    "                                                    test_size=0.2, \n",
    "                                                    random_state=1)\n",
    "\n",
    "# Show the Training and Testing Data\n",
    "print('Shape of training feature:', X_train.shape)\n",
    "print('Shape of testing feature:', X_test.shape)\n",
    "print('Shape of training label:', y_train.shape)\n",
    "print('Shape of testing label:', y_test.shape)\n"
   ]
  },
  {
   "cell_type": "markdown",
   "metadata": {},
   "source": [
    "Fitting the model. **The best-fitting line** minimises the difference between the predicted values and the actual values in the data"
   ]
  },
  {
   "cell_type": "code",
   "execution_count": 63,
   "metadata": {},
   "outputs": [
    {
     "data": {
      "text/html": [
       "<style>#sk-container-id-1 {color: black;background-color: white;}#sk-container-id-1 pre{padding: 0;}#sk-container-id-1 div.sk-toggleable {background-color: white;}#sk-container-id-1 label.sk-toggleable__label {cursor: pointer;display: block;width: 100%;margin-bottom: 0;padding: 0.3em;box-sizing: border-box;text-align: center;}#sk-container-id-1 label.sk-toggleable__label-arrow:before {content: \"▸\";float: left;margin-right: 0.25em;color: #696969;}#sk-container-id-1 label.sk-toggleable__label-arrow:hover:before {color: black;}#sk-container-id-1 div.sk-estimator:hover label.sk-toggleable__label-arrow:before {color: black;}#sk-container-id-1 div.sk-toggleable__content {max-height: 0;max-width: 0;overflow: hidden;text-align: left;background-color: #f0f8ff;}#sk-container-id-1 div.sk-toggleable__content pre {margin: 0.2em;color: black;border-radius: 0.25em;background-color: #f0f8ff;}#sk-container-id-1 input.sk-toggleable__control:checked~div.sk-toggleable__content {max-height: 200px;max-width: 100%;overflow: auto;}#sk-container-id-1 input.sk-toggleable__control:checked~label.sk-toggleable__label-arrow:before {content: \"▾\";}#sk-container-id-1 div.sk-estimator input.sk-toggleable__control:checked~label.sk-toggleable__label {background-color: #d4ebff;}#sk-container-id-1 div.sk-label input.sk-toggleable__control:checked~label.sk-toggleable__label {background-color: #d4ebff;}#sk-container-id-1 input.sk-hidden--visually {border: 0;clip: rect(1px 1px 1px 1px);clip: rect(1px, 1px, 1px, 1px);height: 1px;margin: -1px;overflow: hidden;padding: 0;position: absolute;width: 1px;}#sk-container-id-1 div.sk-estimator {font-family: monospace;background-color: #f0f8ff;border: 1px dotted black;border-radius: 0.25em;box-sizing: border-box;margin-bottom: 0.5em;}#sk-container-id-1 div.sk-estimator:hover {background-color: #d4ebff;}#sk-container-id-1 div.sk-parallel-item::after {content: \"\";width: 100%;border-bottom: 1px solid gray;flex-grow: 1;}#sk-container-id-1 div.sk-label:hover label.sk-toggleable__label {background-color: #d4ebff;}#sk-container-id-1 div.sk-serial::before {content: \"\";position: absolute;border-left: 1px solid gray;box-sizing: border-box;top: 0;bottom: 0;left: 50%;z-index: 0;}#sk-container-id-1 div.sk-serial {display: flex;flex-direction: column;align-items: center;background-color: white;padding-right: 0.2em;padding-left: 0.2em;position: relative;}#sk-container-id-1 div.sk-item {position: relative;z-index: 1;}#sk-container-id-1 div.sk-parallel {display: flex;align-items: stretch;justify-content: center;background-color: white;position: relative;}#sk-container-id-1 div.sk-item::before, #sk-container-id-1 div.sk-parallel-item::before {content: \"\";position: absolute;border-left: 1px solid gray;box-sizing: border-box;top: 0;bottom: 0;left: 50%;z-index: -1;}#sk-container-id-1 div.sk-parallel-item {display: flex;flex-direction: column;z-index: 1;position: relative;background-color: white;}#sk-container-id-1 div.sk-parallel-item:first-child::after {align-self: flex-end;width: 50%;}#sk-container-id-1 div.sk-parallel-item:last-child::after {align-self: flex-start;width: 50%;}#sk-container-id-1 div.sk-parallel-item:only-child::after {width: 0;}#sk-container-id-1 div.sk-dashed-wrapped {border: 1px dashed gray;margin: 0 0.4em 0.5em 0.4em;box-sizing: border-box;padding-bottom: 0.4em;background-color: white;}#sk-container-id-1 div.sk-label label {font-family: monospace;font-weight: bold;display: inline-block;line-height: 1.2em;}#sk-container-id-1 div.sk-label-container {text-align: center;}#sk-container-id-1 div.sk-container {/* jupyter's `normalize.less` sets `[hidden] { display: none; }` but bootstrap.min.css set `[hidden] { display: none !important; }` so we also need the `!important` here to be able to override the default hidden behavior on the sphinx rendered scikit-learn.org. See: https://github.com/scikit-learn/scikit-learn/issues/21755 */display: inline-block !important;position: relative;}#sk-container-id-1 div.sk-text-repr-fallback {display: none;}</style><div id=\"sk-container-id-1\" class=\"sk-top-container\"><div class=\"sk-text-repr-fallback\"><pre>LinearRegression()</pre><b>In a Jupyter environment, please rerun this cell to show the HTML representation or trust the notebook. <br />On GitHub, the HTML representation is unable to render, please try loading this page with nbviewer.org.</b></div><div class=\"sk-container\" hidden><div class=\"sk-item\"><div class=\"sk-estimator sk-toggleable\"><input class=\"sk-toggleable__control sk-hidden--visually\" id=\"sk-estimator-id-1\" type=\"checkbox\" checked><label for=\"sk-estimator-id-1\" class=\"sk-toggleable__label sk-toggleable__label-arrow\">LinearRegression</label><div class=\"sk-toggleable__content\"><pre>LinearRegression()</pre></div></div></div></div></div>"
      ],
      "text/plain": [
       "LinearRegression()"
      ]
     },
     "execution_count": 63,
     "metadata": {},
     "output_type": "execute_result"
    }
   ],
   "source": [
    "lm = LinearRegression()\n",
    "lm.fit(X_train, y_train)\n"
   ]
  },
  {
   "cell_type": "markdown",
   "metadata": {},
   "source": [
    "Interpret the model"
   ]
  },
  {
   "cell_type": "code",
   "execution_count": 64,
   "metadata": {},
   "outputs": [
    {
     "data": {
      "text/plain": [
       "0.008652897108139641"
      ]
     },
     "execution_count": 64,
     "metadata": {},
     "output_type": "execute_result"
    }
   ],
   "source": [
    "#Interpreting the model\n",
    "lm.intercept_\n"
   ]
  },
  {
   "cell_type": "code",
   "execution_count": 65,
   "metadata": {},
   "outputs": [
    {
     "data": {
      "text/html": [
       "<div>\n",
       "<style scoped>\n",
       "    .dataframe tbody tr th:only-of-type {\n",
       "        vertical-align: middle;\n",
       "    }\n",
       "\n",
       "    .dataframe tbody tr th {\n",
       "        vertical-align: top;\n",
       "    }\n",
       "\n",
       "    .dataframe thead th {\n",
       "        text-align: right;\n",
       "    }\n",
       "</style>\n",
       "<table border=\"1\" class=\"dataframe\">\n",
       "  <thead>\n",
       "    <tr style=\"text-align: right;\">\n",
       "      <th></th>\n",
       "      <th>0</th>\n",
       "    </tr>\n",
       "  </thead>\n",
       "  <tbody>\n",
       "    <tr>\n",
       "      <th>in_spotify_playlists</th>\n",
       "      <td>0.664016</td>\n",
       "    </tr>\n",
       "    <tr>\n",
       "      <th>in_apple_playlists</th>\n",
       "      <td>0.300774</td>\n",
       "    </tr>\n",
       "    <tr>\n",
       "      <th>released_season_Spring</th>\n",
       "      <td>0.023317</td>\n",
       "    </tr>\n",
       "    <tr>\n",
       "      <th>released_season_Summer</th>\n",
       "      <td>0.004449</td>\n",
       "    </tr>\n",
       "    <tr>\n",
       "      <th>mode_Minor</th>\n",
       "      <td>0.000588</td>\n",
       "    </tr>\n",
       "    <tr>\n",
       "      <th>mode_Major</th>\n",
       "      <td>-0.000588</td>\n",
       "    </tr>\n",
       "    <tr>\n",
       "      <th>released_season_Winter</th>\n",
       "      <td>-0.027766</td>\n",
       "    </tr>\n",
       "    <tr>\n",
       "      <th>in_deezer_playlists</th>\n",
       "      <td>-0.192816</td>\n",
       "    </tr>\n",
       "  </tbody>\n",
       "</table>\n",
       "</div>"
      ],
      "text/plain": [
       "                               0\n",
       "in_spotify_playlists    0.664016\n",
       "in_apple_playlists      0.300774\n",
       "released_season_Spring  0.023317\n",
       "released_season_Summer  0.004449\n",
       "mode_Minor              0.000588\n",
       "mode_Major             -0.000588\n",
       "released_season_Winter -0.027766\n",
       "in_deezer_playlists    -0.192816"
      ]
     },
     "execution_count": 65,
     "metadata": {},
     "output_type": "execute_result"
    }
   ],
   "source": [
    "# Get a table of your feature variable names and their associated coefficients (if multiple)\n",
    "feature_df = pd.DataFrame(lm.coef_, index=X_train.columns)\n",
    "feature_df.sort_values(by= 0, ascending= False)\n"
   ]
  },
  {
   "cell_type": "code",
   "execution_count": 203,
   "metadata": {},
   "outputs": [],
   "source": [
    "#We can observe that \"in_spotify_playlists\" and \"in_apple_playlists\" explain most of the target variability. Songs that appear on Deezer playlists have a negative relationship with Spotify streams.\n",
    "#and regarding the released season, songs released during Spring have a positive impact on our target, while Winter has a negative effect on it.\n"
   ]
  },
  {
   "cell_type": "markdown",
   "metadata": {},
   "source": [
    "Model Evaluation\n",
    "\n",
    "**R-squared** (a _coefficient of determination_) is a value between 0 and 1, and is a measure of goodness of fit, representing the proportion of the variance in the target explained by your feature variables. \n",
    "\n",
    "If the R-squared value is **_0_**, it means that **none of the variability** in the target variable is explained by the feature variables.\n",
    "\n",
    "If the R-squared value is **_1_**, it means that **all of the variability** in the target variable is explained by the feature variables"
   ]
  },
  {
   "cell_type": "code",
   "execution_count": 66,
   "metadata": {},
   "outputs": [
    {
     "data": {
      "text/plain": [
       "0.5702433151699616"
      ]
     },
     "execution_count": 66,
     "metadata": {},
     "output_type": "execute_result"
    }
   ],
   "source": [
    "# Checking the overall model perfomance on the entire dataset\n",
    "lm.score(X, y)\n",
    "\n",
    "#75% of the variation in the target variable can be explained by the feature variables\n"
   ]
  },
  {
   "cell_type": "code",
   "execution_count": 205,
   "metadata": {},
   "outputs": [],
   "source": [
    "#Evaluating Training and Testing sets R-square to check if our model could be over/underfitted\n"
   ]
  },
  {
   "cell_type": "code",
   "execution_count": 67,
   "metadata": {},
   "outputs": [
    {
     "name": "stdout",
     "output_type": "stream",
     "text": [
      "Training score: 0.58\n",
      "Testing score: 0.53\n"
     ]
    }
   ],
   "source": [
    "print(f'Training score: {lm.score(X_train, y_train):.2f}')\n",
    "print(f'Testing score: {lm.score(X_test, y_test):.2f}')\n"
   ]
  },
  {
   "cell_type": "markdown",
   "metadata": {},
   "source": [
    "Evaluation of our model with different metrics:\n",
    "\n",
    "We can use **Root Mean Squared Error (RMSE)** and/or **Mean Absolute Error (MAE)** in addition to R-squared.\n",
    "\n",
    "RMSE gives the average magnitude of the errors in the model's prediction. The lower the RMSE, the better predictive accuracy. This metric can produce larger errors if you have outliers and so the larger errors might have a bigger impact on the overall performance of the model. This might be useful if you want to emphasise errors and want to improve the accuracy of the predictions. \n",
    "\n",
    "MAE gives the average absolute difference between the predicted and actual values. The lower the MAE, the better the predictive accuracy of your model. Robust to outliers and so might be a preferred metric if you have extreme values in your data set."
   ]
  },
  {
   "cell_type": "code",
   "execution_count": 68,
   "metadata": {},
   "outputs": [],
   "source": [
    "# Let's predict the target values of our testing set\n",
    "test_predictions = lm.predict(X_test)\n"
   ]
  },
  {
   "cell_type": "code",
   "execution_count": 69,
   "metadata": {},
   "outputs": [
    {
     "name": "stdout",
     "output_type": "stream",
     "text": [
      "RMSE: 0.68\n"
     ]
    }
   ],
   "source": [
    "# Calculate the root mean squared error using the testing data and the predictions\n",
    "rmse = np.sqrt(mean_squared_error(y_test, test_predictions))\n",
    "print(f'RMSE: {rmse:.2f}')\n"
   ]
  },
  {
   "cell_type": "code",
   "execution_count": 70,
   "metadata": {},
   "outputs": [
    {
     "name": "stdout",
     "output_type": "stream",
     "text": [
      "MAE: 0.48\n"
     ]
    }
   ],
   "source": [
    "# Calculate the mean absolute error\n",
    "mae = mean_absolute_error(y_test, test_predictions)\n",
    "\n",
    "# Print the errors using f-strings and 3 decimal places\n",
    "print(f'MAE: {mae:.2f}')\n"
   ]
  },
  {
   "cell_type": "markdown",
   "metadata": {},
   "source": [
    "Cross-validation\n",
    "\n",
    "We will combine the k-Fold Cross Validation method in making our Linear Regression model, to improve the generalizability of our model, as well as to avoid overfitting in our predictions"
   ]
  },
  {
   "cell_type": "code",
   "execution_count": 71,
   "metadata": {},
   "outputs": [
    {
     "data": {
      "text/plain": [
       "array([0.54683832, 0.50122513, 0.54279952, 0.58255531, 0.67608709])"
      ]
     },
     "execution_count": 71,
     "metadata": {},
     "output_type": "execute_result"
    }
   ],
   "source": [
    "from sklearn.model_selection import cross_val_score, KFold\n",
    "\n",
    "folds = KFold(n_splits = 5, shuffle = True, random_state = 100)\n",
    "scores = cross_val_score(lm, X_train, y_train, scoring='r2', cv=folds)\n",
    "scores\n"
   ]
  },
  {
   "cell_type": "code",
   "execution_count": 72,
   "metadata": {},
   "outputs": [
    {
     "data": {
      "text/plain": [
       "array([-0.38036416, -0.41053895, -0.59728774, -0.44156831, -0.3634736 ])"
      ]
     },
     "execution_count": 72,
     "metadata": {},
     "output_type": "execute_result"
    }
   ],
   "source": [
    "scores = cross_val_score(lm, X_train, y_train, scoring='neg_mean_squared_error', cv=5)\n",
    "scores\n"
   ]
  },
  {
   "cell_type": "markdown",
   "metadata": {},
   "source": [
    "Using RFE:\n",
    "Given an external estimator that assigns weights to features (e.g., the coefficients of a linear model), the goal of recursive feature elimination (RFE) is to select features by recursively considering smaller and smaller sets of features"
   ]
  },
  {
   "cell_type": "code",
   "execution_count": 73,
   "metadata": {},
   "outputs": [
    {
     "data": {
      "text/plain": [
       "8"
      ]
     },
     "execution_count": 73,
     "metadata": {},
     "output_type": "execute_result"
    }
   ],
   "source": [
    "len(X_train.columns)\n"
   ]
  },
  {
   "cell_type": "code",
   "execution_count": 74,
   "metadata": {},
   "outputs": [],
   "source": [
    "# running RFE with number of features=5\n",
    "\n",
    "lm1 = LinearRegression()\n",
    "lm1.fit(X_train, y_train)\n",
    "\n",
    "rfe = RFE(lm1, n_features_to_select=5)             \n",
    "rfe = rfe.fit(X_train, y_train)\n"
   ]
  },
  {
   "cell_type": "code",
   "execution_count": 78,
   "metadata": {},
   "outputs": [
    {
     "ename": "TypeError",
     "evalue": "'Index' object is not callable",
     "output_type": "error",
     "traceback": [
      "\u001b[0;31m---------------------------------------------------------------------------\u001b[0m",
      "\u001b[0;31mTypeError\u001b[0m                                 Traceback (most recent call last)",
      "Cell \u001b[0;32mIn[78], line 3\u001b[0m\n\u001b[1;32m      1\u001b[0m \u001b[38;5;66;03m# tuples of (feature name, whether selected, ranking)\u001b[39;00m\n\u001b[1;32m      2\u001b[0m \u001b[38;5;66;03m# note that the 'rank' is > 1 for non-selected features\u001b[39;00m\n\u001b[0;32m----> 3\u001b[0m \u001b[38;5;28mlist\u001b[39m(\u001b[38;5;28mzip\u001b[39m(X_train\u001b[38;5;241m.\u001b[39mcolumns(),(rfe\u001b[38;5;241m.\u001b[39msupport_ ,rfe\u001b[38;5;241m.\u001b[39mranking_)))\n",
      "\u001b[0;31mTypeError\u001b[0m: 'Index' object is not callable"
     ]
    }
   ],
   "source": [
    "# tuples of (feature name, whether selected, ranking)\n",
    "# note that the 'rank' is > 1 for non-selected features\n",
    "list(zip(X_train.columns(),(rfe.support_ ,rfe.ranking_)))\n"
   ]
  },
  {
   "cell_type": "code",
   "execution_count": 79,
   "metadata": {},
   "outputs": [
    {
     "name": "stdout",
     "output_type": "stream",
     "text": [
      "0.5265002811061802\n"
     ]
    }
   ],
   "source": [
    "# predict Spotify streams of X_test\n",
    "y_pred = rfe.predict(X_test)\n",
    "\n",
    "# evaluate the model on test set\n",
    "r2 = r2_score(y_test, y_pred)\n",
    "print(r2)\n"
   ]
  },
  {
   "cell_type": "code",
   "execution_count": 80,
   "metadata": {},
   "outputs": [
    {
     "name": "stdout",
     "output_type": "stream",
     "text": [
      "0.5263036814684703\n"
     ]
    }
   ],
   "source": [
    "# try with another value of RFE\n",
    "lm1 = LinearRegression()\n",
    "lm1.fit(X_train, y_train)\n",
    "\n",
    "rfe = RFE(lm1, n_features_to_select=4)             \n",
    "rfe = rfe.fit(X_train, y_train)\n",
    "\n",
    "# predict prices of X_test\n",
    "y_pred = rfe.predict(X_test)\n",
    "r2 = r2_score(y_test, y_pred)\n",
    "print(r2)\n"
   ]
  },
  {
   "cell_type": "code",
   "execution_count": 81,
   "metadata": {},
   "outputs": [
    {
     "data": {
      "image/png": "[encoded data removed]",
      "text/plain": [
       "<Figure size 1000x600 with 1 Axes>"
      ]
     },
     "metadata": {},
     "output_type": "display_data"
    }
   ],
   "source": [
    "# Visualize predicted vs actual values\n",
    "plt.figure(figsize=(10, 6))\n",
    "plt.scatter(y_test, y_pred, color='blue')\n",
    "plt.plot([y_test.min(), y_test.max()], [y_test.min(), y_test.max()], 'k--', lw=2)\n",
    "plt.xlabel('Actual')\n",
    "plt.ylabel('Predicted')\n",
    "plt.title('Actual vs Predicted')\n",
    "plt.show()\n"
   ]
  },
  {
   "cell_type": "markdown",
   "metadata": {},
   "source": [
    "Hyperparameter Tuning using Grid Search Cross-validation\n"
   ]
  },
  {
   "cell_type": "code",
   "execution_count": 82,
   "metadata": {},
   "outputs": [
    {
     "data": {
      "text/plain": [
       "8"
      ]
     },
     "execution_count": 82,
     "metadata": {},
     "output_type": "execute_result"
    }
   ],
   "source": [
    "# number of features in X_train\n",
    "len(X_train.columns)\n"
   ]
  },
  {
   "cell_type": "code",
   "execution_count": 83,
   "metadata": {},
   "outputs": [
    {
     "name": "stdout",
     "output_type": "stream",
     "text": [
      "Fitting 5 folds for each of 8 candidates, totalling 40 fits\n"
     ]
    },
    {
     "data": {
      "text/html": [
       "<style>#sk-container-id-2 {color: black;background-color: white;}#sk-container-id-2 pre{padding: 0;}#sk-container-id-2 div.sk-toggleable {background-color: white;}#sk-container-id-2 label.sk-toggleable__label {cursor: pointer;display: block;width: 100%;margin-bottom: 0;padding: 0.3em;box-sizing: border-box;text-align: center;}#sk-container-id-2 label.sk-toggleable__label-arrow:before {content: \"▸\";float: left;margin-right: 0.25em;color: #696969;}#sk-container-id-2 label.sk-toggleable__label-arrow:hover:before {color: black;}#sk-container-id-2 div.sk-estimator:hover label.sk-toggleable__label-arrow:before {color: black;}#sk-container-id-2 div.sk-toggleable__content {max-height: 0;max-width: 0;overflow: hidden;text-align: left;background-color: #f0f8ff;}#sk-container-id-2 div.sk-toggleable__content pre {margin: 0.2em;color: black;border-radius: 0.25em;background-color: #f0f8ff;}#sk-container-id-2 input.sk-toggleable__control:checked~div.sk-toggleable__content {max-height: 200px;max-width: 100%;overflow: auto;}#sk-container-id-2 input.sk-toggleable__control:checked~label.sk-toggleable__label-arrow:before {content: \"▾\";}#sk-container-id-2 div.sk-estimator input.sk-toggleable__control:checked~label.sk-toggleable__label {background-color: #d4ebff;}#sk-container-id-2 div.sk-label input.sk-toggleable__control:checked~label.sk-toggleable__label {background-color: #d4ebff;}#sk-container-id-2 input.sk-hidden--visually {border: 0;clip: rect(1px 1px 1px 1px);clip: rect(1px, 1px, 1px, 1px);height: 1px;margin: -1px;overflow: hidden;padding: 0;position: absolute;width: 1px;}#sk-container-id-2 div.sk-estimator {font-family: monospace;background-color: #f0f8ff;border: 1px dotted black;border-radius: 0.25em;box-sizing: border-box;margin-bottom: 0.5em;}#sk-container-id-2 div.sk-estimator:hover {background-color: #d4ebff;}#sk-container-id-2 div.sk-parallel-item::after {content: \"\";width: 100%;border-bottom: 1px solid gray;flex-grow: 1;}#sk-container-id-2 div.sk-label:hover label.sk-toggleable__label {background-color: #d4ebff;}#sk-container-id-2 div.sk-serial::before {content: \"\";position: absolute;border-left: 1px solid gray;box-sizing: border-box;top: 0;bottom: 0;left: 50%;z-index: 0;}#sk-container-id-2 div.sk-serial {display: flex;flex-direction: column;align-items: center;background-color: white;padding-right: 0.2em;padding-left: 0.2em;position: relative;}#sk-container-id-2 div.sk-item {position: relative;z-index: 1;}#sk-container-id-2 div.sk-parallel {display: flex;align-items: stretch;justify-content: center;background-color: white;position: relative;}#sk-container-id-2 div.sk-item::before, #sk-container-id-2 div.sk-parallel-item::before {content: \"\";position: absolute;border-left: 1px solid gray;box-sizing: border-box;top: 0;bottom: 0;left: 50%;z-index: -1;}#sk-container-id-2 div.sk-parallel-item {display: flex;flex-direction: column;z-index: 1;position: relative;background-color: white;}#sk-container-id-2 div.sk-parallel-item:first-child::after {align-self: flex-end;width: 50%;}#sk-container-id-2 div.sk-parallel-item:last-child::after {align-self: flex-start;width: 50%;}#sk-container-id-2 div.sk-parallel-item:only-child::after {width: 0;}#sk-container-id-2 div.sk-dashed-wrapped {border: 1px dashed gray;margin: 0 0.4em 0.5em 0.4em;box-sizing: border-box;padding-bottom: 0.4em;background-color: white;}#sk-container-id-2 div.sk-label label {font-family: monospace;font-weight: bold;display: inline-block;line-height: 1.2em;}#sk-container-id-2 div.sk-label-container {text-align: center;}#sk-container-id-2 div.sk-container {/* jupyter's `normalize.less` sets `[hidden] { display: none; }` but bootstrap.min.css set `[hidden] { display: none !important; }` so we also need the `!important` here to be able to override the default hidden behavior on the sphinx rendered scikit-learn.org. See: https://github.com/scikit-learn/scikit-learn/issues/21755 */display: inline-block !important;position: relative;}#sk-container-id-2 div.sk-text-repr-fallback {display: none;}</style><div id=\"sk-container-id-2\" class=\"sk-top-container\"><div class=\"sk-text-repr-fallback\"><pre>GridSearchCV(cv=KFold(n_splits=5, random_state=100, shuffle=True),\n",
       "             estimator=RFE(estimator=LinearRegression()),\n",
       "             param_grid=[{&#x27;n_features_to_select&#x27;: [1, 2, 3, 4, 5, 6, 7, 8]}],\n",
       "             return_train_score=True, scoring=&#x27;r2&#x27;, verbose=1)</pre><b>In a Jupyter environment, please rerun this cell to show the HTML representation or trust the notebook. <br />On GitHub, the HTML representation is unable to render, please try loading this page with nbviewer.org.</b></div><div class=\"sk-container\" hidden><div class=\"sk-item sk-dashed-wrapped\"><div class=\"sk-label-container\"><div class=\"sk-label sk-toggleable\"><input class=\"sk-toggleable__control sk-hidden--visually\" id=\"sk-estimator-id-2\" type=\"checkbox\" ><label for=\"sk-estimator-id-2\" class=\"sk-toggleable__label sk-toggleable__label-arrow\">GridSearchCV</label><div class=\"sk-toggleable__content\"><pre>GridSearchCV(cv=KFold(n_splits=5, random_state=100, shuffle=True),\n",
       "             estimator=RFE(estimator=LinearRegression()),\n",
       "             param_grid=[{&#x27;n_features_to_select&#x27;: [1, 2, 3, 4, 5, 6, 7, 8]}],\n",
       "             return_train_score=True, scoring=&#x27;r2&#x27;, verbose=1)</pre></div></div></div><div class=\"sk-parallel\"><div class=\"sk-parallel-item\"><div class=\"sk-item\"><div class=\"sk-label-container\"><div class=\"sk-label sk-toggleable\"><input class=\"sk-toggleable__control sk-hidden--visually\" id=\"sk-estimator-id-3\" type=\"checkbox\" ><label for=\"sk-estimator-id-3\" class=\"sk-toggleable__label sk-toggleable__label-arrow\">estimator: RFE</label><div class=\"sk-toggleable__content\"><pre>RFE(estimator=LinearRegression())</pre></div></div></div><div class=\"sk-serial\"><div class=\"sk-item sk-dashed-wrapped\"><div class=\"sk-parallel\"><div class=\"sk-parallel-item\"><div class=\"sk-item\"><div class=\"sk-label-container\"><div class=\"sk-label sk-toggleable\"><input class=\"sk-toggleable__control sk-hidden--visually\" id=\"sk-estimator-id-4\" type=\"checkbox\" ><label for=\"sk-estimator-id-4\" class=\"sk-toggleable__label sk-toggleable__label-arrow\">estimator: LinearRegression</label><div class=\"sk-toggleable__content\"><pre>LinearRegression()</pre></div></div></div><div class=\"sk-serial\"><div class=\"sk-item\"><div class=\"sk-estimator sk-toggleable\"><input class=\"sk-toggleable__control sk-hidden--visually\" id=\"sk-estimator-id-5\" type=\"checkbox\" ><label for=\"sk-estimator-id-5\" class=\"sk-toggleable__label sk-toggleable__label-arrow\">LinearRegression</label><div class=\"sk-toggleable__content\"><pre>LinearRegression()</pre></div></div></div></div></div></div></div></div></div></div></div></div></div></div></div>"
      ],
      "text/plain": [
       "GridSearchCV(cv=KFold(n_splits=5, random_state=100, shuffle=True),\n",
       "             estimator=RFE(estimator=LinearRegression()),\n",
       "             param_grid=[{'n_features_to_select': [1, 2, 3, 4, 5, 6, 7, 8]}],\n",
       "             return_train_score=True, scoring='r2', verbose=1)"
      ]
     },
     "execution_count": 83,
     "metadata": {},
     "output_type": "execute_result"
    }
   ],
   "source": [
    "from sklearn.feature_selection import RFE\n",
    "from sklearn.model_selection import GridSearchCV\n",
    "\n",
    "# step-1: create a cross-validation scheme\n",
    "folds = KFold(n_splits = 5, shuffle = True, random_state = 100)\n",
    "\n",
    "# step-2: specify range of hyperparameters to tune\n",
    "hyper_params = [{'n_features_to_select': list(range(1, 9))}]\n",
    "\n",
    "\n",
    "# step-3: perform grid search\n",
    "# 3.1 specify model\n",
    "lm = LinearRegression()\n",
    "lm.fit(X_train, y_train)\n",
    "rfe = RFE(lm)             \n",
    "\n",
    "# 3.2 call GridSearchCV()\n",
    "model_cv = GridSearchCV(estimator = rfe, \n",
    "                        param_grid = hyper_params, \n",
    "                        scoring= 'r2', \n",
    "                        cv = folds, \n",
    "                        verbose = 1,\n",
    "                        return_train_score=True)      \n",
    "\n",
    "# fit the model\n",
    "model_cv.fit(X_train, y_train)    \n"
   ]
  },
  {
   "cell_type": "code",
   "execution_count": 84,
   "metadata": {},
   "outputs": [
    {
     "data": {
      "text/html": [
       "<div>\n",
       "<style scoped>\n",
       "    .dataframe tbody tr th:only-of-type {\n",
       "        vertical-align: middle;\n",
       "    }\n",
       "\n",
       "    .dataframe tbody tr th {\n",
       "        vertical-align: top;\n",
       "    }\n",
       "\n",
       "    .dataframe thead th {\n",
       "        text-align: right;\n",
       "    }\n",
       "</style>\n",
       "<table border=\"1\" class=\"dataframe\">\n",
       "  <thead>\n",
       "    <tr style=\"text-align: right;\">\n",
       "      <th></th>\n",
       "      <th>mean_fit_time</th>\n",
       "      <th>std_fit_time</th>\n",
       "      <th>mean_score_time</th>\n",
       "      <th>std_score_time</th>\n",
       "      <th>param_n_features_to_select</th>\n",
       "      <th>params</th>\n",
       "      <th>split0_test_score</th>\n",
       "      <th>split1_test_score</th>\n",
       "      <th>split2_test_score</th>\n",
       "      <th>split3_test_score</th>\n",
       "      <th>...</th>\n",
       "      <th>mean_test_score</th>\n",
       "      <th>std_test_score</th>\n",
       "      <th>rank_test_score</th>\n",
       "      <th>split0_train_score</th>\n",
       "      <th>split1_train_score</th>\n",
       "      <th>split2_train_score</th>\n",
       "      <th>split3_train_score</th>\n",
       "      <th>split4_train_score</th>\n",
       "      <th>mean_train_score</th>\n",
       "      <th>std_train_score</th>\n",
       "    </tr>\n",
       "  </thead>\n",
       "  <tbody>\n",
       "    <tr>\n",
       "      <th>0</th>\n",
       "      <td>0.012851</td>\n",
       "      <td>0.001900</td>\n",
       "      <td>0.001931</td>\n",
       "      <td>0.000419</td>\n",
       "      <td>1</td>\n",
       "      <td>{'n_features_to_select': 1}</td>\n",
       "      <td>0.416169</td>\n",
       "      <td>0.409953</td>\n",
       "      <td>0.488732</td>\n",
       "      <td>0.600025</td>\n",
       "      <td>...</td>\n",
       "      <td>0.494291</td>\n",
       "      <td>0.075241</td>\n",
       "      <td>8</td>\n",
       "      <td>0.524141</td>\n",
       "      <td>0.529707</td>\n",
       "      <td>0.511299</td>\n",
       "      <td>0.481277</td>\n",
       "      <td>0.493022</td>\n",
       "      <td>0.507889</td>\n",
       "      <td>0.018336</td>\n",
       "    </tr>\n",
       "    <tr>\n",
       "      <th>1</th>\n",
       "      <td>0.008713</td>\n",
       "      <td>0.001158</td>\n",
       "      <td>0.001628</td>\n",
       "      <td>0.000383</td>\n",
       "      <td>2</td>\n",
       "      <td>{'n_features_to_select': 2}</td>\n",
       "      <td>0.529849</td>\n",
       "      <td>0.501343</td>\n",
       "      <td>0.538415</td>\n",
       "      <td>0.562618</td>\n",
       "      <td>...</td>\n",
       "      <td>0.559113</td>\n",
       "      <td>0.055674</td>\n",
       "      <td>7</td>\n",
       "      <td>0.574883</td>\n",
       "      <td>0.584464</td>\n",
       "      <td>0.576678</td>\n",
       "      <td>0.567410</td>\n",
       "      <td>0.548186</td>\n",
       "      <td>0.570324</td>\n",
       "      <td>0.012326</td>\n",
       "    </tr>\n",
       "    <tr>\n",
       "      <th>2</th>\n",
       "      <td>0.007386</td>\n",
       "      <td>0.000716</td>\n",
       "      <td>0.001335</td>\n",
       "      <td>0.000083</td>\n",
       "      <td>3</td>\n",
       "      <td>{'n_features_to_select': 3}</td>\n",
       "      <td>0.552925</td>\n",
       "      <td>0.510079</td>\n",
       "      <td>0.547160</td>\n",
       "      <td>0.582694</td>\n",
       "      <td>...</td>\n",
       "      <td>0.574163</td>\n",
       "      <td>0.056803</td>\n",
       "      <td>1</td>\n",
       "      <td>0.585783</td>\n",
       "      <td>0.596875</td>\n",
       "      <td>0.589097</td>\n",
       "      <td>0.576954</td>\n",
       "      <td>0.559278</td>\n",
       "      <td>0.581597</td>\n",
       "      <td>0.012860</td>\n",
       "    </tr>\n",
       "    <tr>\n",
       "      <th>3</th>\n",
       "      <td>0.021662</td>\n",
       "      <td>0.023135</td>\n",
       "      <td>0.001770</td>\n",
       "      <td>0.000273</td>\n",
       "      <td>4</td>\n",
       "      <td>{'n_features_to_select': 4}</td>\n",
       "      <td>0.547446</td>\n",
       "      <td>0.503993</td>\n",
       "      <td>0.545118</td>\n",
       "      <td>0.582922</td>\n",
       "      <td>...</td>\n",
       "      <td>0.571295</td>\n",
       "      <td>0.058465</td>\n",
       "      <td>2</td>\n",
       "      <td>0.586351</td>\n",
       "      <td>0.598444</td>\n",
       "      <td>0.589361</td>\n",
       "      <td>0.577302</td>\n",
       "      <td>0.559829</td>\n",
       "      <td>0.582258</td>\n",
       "      <td>0.013090</td>\n",
       "    </tr>\n",
       "    <tr>\n",
       "      <th>4</th>\n",
       "      <td>0.006489</td>\n",
       "      <td>0.001069</td>\n",
       "      <td>0.001524</td>\n",
       "      <td>0.000324</td>\n",
       "      <td>5</td>\n",
       "      <td>{'n_features_to_select': 5}</td>\n",
       "      <td>0.547634</td>\n",
       "      <td>0.501425</td>\n",
       "      <td>0.542708</td>\n",
       "      <td>0.582853</td>\n",
       "      <td>...</td>\n",
       "      <td>0.570316</td>\n",
       "      <td>0.059250</td>\n",
       "      <td>3</td>\n",
       "      <td>0.586700</td>\n",
       "      <td>0.598943</td>\n",
       "      <td>0.589462</td>\n",
       "      <td>0.577378</td>\n",
       "      <td>0.559892</td>\n",
       "      <td>0.582475</td>\n",
       "      <td>0.013220</td>\n",
       "    </tr>\n",
       "    <tr>\n",
       "      <th>5</th>\n",
       "      <td>0.005226</td>\n",
       "      <td>0.001204</td>\n",
       "      <td>0.001379</td>\n",
       "      <td>0.000099</td>\n",
       "      <td>6</td>\n",
       "      <td>{'n_features_to_select': 6}</td>\n",
       "      <td>0.547634</td>\n",
       "      <td>0.501225</td>\n",
       "      <td>0.542708</td>\n",
       "      <td>0.582555</td>\n",
       "      <td>...</td>\n",
       "      <td>0.570042</td>\n",
       "      <td>0.058970</td>\n",
       "      <td>4</td>\n",
       "      <td>0.586700</td>\n",
       "      <td>0.598964</td>\n",
       "      <td>0.589462</td>\n",
       "      <td>0.577409</td>\n",
       "      <td>0.559974</td>\n",
       "      <td>0.582502</td>\n",
       "      <td>0.013195</td>\n",
       "    </tr>\n",
       "    <tr>\n",
       "      <th>6</th>\n",
       "      <td>0.003481</td>\n",
       "      <td>0.000375</td>\n",
       "      <td>0.001381</td>\n",
       "      <td>0.000298</td>\n",
       "      <td>7</td>\n",
       "      <td>{'n_features_to_select': 7}</td>\n",
       "      <td>0.546838</td>\n",
       "      <td>0.501225</td>\n",
       "      <td>0.542800</td>\n",
       "      <td>0.582555</td>\n",
       "      <td>...</td>\n",
       "      <td>0.569901</td>\n",
       "      <td>0.059023</td>\n",
       "      <td>6</td>\n",
       "      <td>0.586731</td>\n",
       "      <td>0.598964</td>\n",
       "      <td>0.589466</td>\n",
       "      <td>0.577409</td>\n",
       "      <td>0.559974</td>\n",
       "      <td>0.582509</td>\n",
       "      <td>0.013197</td>\n",
       "    </tr>\n",
       "    <tr>\n",
       "      <th>7</th>\n",
       "      <td>0.002617</td>\n",
       "      <td>0.000375</td>\n",
       "      <td>0.001317</td>\n",
       "      <td>0.000163</td>\n",
       "      <td>8</td>\n",
       "      <td>{'n_features_to_select': 8}</td>\n",
       "      <td>0.546838</td>\n",
       "      <td>0.501225</td>\n",
       "      <td>0.542800</td>\n",
       "      <td>0.582555</td>\n",
       "      <td>...</td>\n",
       "      <td>0.569901</td>\n",
       "      <td>0.059023</td>\n",
       "      <td>5</td>\n",
       "      <td>0.586731</td>\n",
       "      <td>0.598964</td>\n",
       "      <td>0.589466</td>\n",
       "      <td>0.577409</td>\n",
       "      <td>0.559974</td>\n",
       "      <td>0.582509</td>\n",
       "      <td>0.013197</td>\n",
       "    </tr>\n",
       "  </tbody>\n",
       "</table>\n",
       "<p>8 rows × 21 columns</p>\n",
       "</div>"
      ],
      "text/plain": [
       "   mean_fit_time  std_fit_time  mean_score_time  std_score_time  \\\n",
       "0       0.012851      0.001900         0.001931        0.000419   \n",
       "1       0.008713      0.001158         0.001628        0.000383   \n",
       "2       0.007386      0.000716         0.001335        0.000083   \n",
       "3       0.021662      0.023135         0.001770        0.000273   \n",
       "4       0.006489      0.001069         0.001524        0.000324   \n",
       "5       0.005226      0.001204         0.001379        0.000099   \n",
       "6       0.003481      0.000375         0.001381        0.000298   \n",
       "7       0.002617      0.000375         0.001317        0.000163   \n",
       "\n",
       "  param_n_features_to_select                       params  split0_test_score  \\\n",
       "0                          1  {'n_features_to_select': 1}           0.416169   \n",
       "1                          2  {'n_features_to_select': 2}           0.529849   \n",
       "2                          3  {'n_features_to_select': 3}           0.552925   \n",
       "3                          4  {'n_features_to_select': 4}           0.547446   \n",
       "4                          5  {'n_features_to_select': 5}           0.547634   \n",
       "5                          6  {'n_features_to_select': 6}           0.547634   \n",
       "6                          7  {'n_features_to_select': 7}           0.546838   \n",
       "7                          8  {'n_features_to_select': 8}           0.546838   \n",
       "\n",
       "   split1_test_score  split2_test_score  split3_test_score  ...  \\\n",
       "0           0.409953           0.488732           0.600025  ...   \n",
       "1           0.501343           0.538415           0.562618  ...   \n",
       "2           0.510079           0.547160           0.582694  ...   \n",
       "3           0.503993           0.545118           0.582922  ...   \n",
       "4           0.501425           0.542708           0.582853  ...   \n",
       "5           0.501225           0.542708           0.582555  ...   \n",
       "6           0.501225           0.542800           0.582555  ...   \n",
       "7           0.501225           0.542800           0.582555  ...   \n",
       "\n",
       "   mean_test_score  std_test_score  rank_test_score  split0_train_score  \\\n",
       "0         0.494291        0.075241                8            0.524141   \n",
       "1         0.559113        0.055674                7            0.574883   \n",
       "2         0.574163        0.056803                1            0.585783   \n",
       "3         0.571295        0.058465                2            0.586351   \n",
       "4         0.570316        0.059250                3            0.586700   \n",
       "5         0.570042        0.058970                4            0.586700   \n",
       "6         0.569901        0.059023                6            0.586731   \n",
       "7         0.569901        0.059023                5            0.586731   \n",
       "\n",
       "   split1_train_score  split2_train_score  split3_train_score  \\\n",
       "0            0.529707            0.511299            0.481277   \n",
       "1            0.584464            0.576678            0.567410   \n",
       "2            0.596875            0.589097            0.576954   \n",
       "3            0.598444            0.589361            0.577302   \n",
       "4            0.598943            0.589462            0.577378   \n",
       "5            0.598964            0.589462            0.577409   \n",
       "6            0.598964            0.589466            0.577409   \n",
       "7            0.598964            0.589466            0.577409   \n",
       "\n",
       "   split4_train_score  mean_train_score  std_train_score  \n",
       "0            0.493022          0.507889         0.018336  \n",
       "1            0.548186          0.570324         0.012326  \n",
       "2            0.559278          0.581597         0.012860  \n",
       "3            0.559829          0.582258         0.013090  \n",
       "4            0.559892          0.582475         0.013220  \n",
       "5            0.559974          0.582502         0.013195  \n",
       "6            0.559974          0.582509         0.013197  \n",
       "7            0.559974          0.582509         0.013197  \n",
       "\n",
       "[8 rows x 21 columns]"
      ]
     },
     "execution_count": 84,
     "metadata": {},
     "output_type": "execute_result"
    }
   ],
   "source": [
    "# cv results\n",
    "cv_results = pd.DataFrame(model_cv.cv_results_)\n",
    "cv_results\n"
   ]
  },
  {
   "cell_type": "code",
   "execution_count": 85,
   "metadata": {},
   "outputs": [
    {
     "data": {
      "text/plain": [
       "<matplotlib.legend.Legend at 0x7f3e8eae2ed0>"
      ]
     },
     "execution_count": 85,
     "metadata": {},
     "output_type": "execute_result"
    },
    {
     "data": {
      "image/png": "[encoded data removed]",
      "text/plain": [
       "<Figure size 1600x600 with 1 Axes>"
      ]
     },
     "metadata": {},
     "output_type": "display_data"
    }
   ],
   "source": [
    "# plotting cv results to help us choose the optimal value of number of features and build a final model\n",
    "plt.figure(figsize=(16,6))\n",
    "\n",
    "plt.plot(cv_results[\"param_n_features_to_select\"], cv_results[\"mean_test_score\"])\n",
    "plt.plot(cv_results[\"param_n_features_to_select\"], cv_results[\"mean_train_score\"])\n",
    "plt.xlabel('number of features')\n",
    "plt.ylabel('r-squared')\n",
    "plt.title(\"Optimal Number of Features\")\n",
    "plt.legend(['test score', 'train score'], loc='upper left')\n"
   ]
  },
  {
   "cell_type": "code",
   "execution_count": 86,
   "metadata": {},
   "outputs": [
    {
     "name": "stdout",
     "output_type": "stream",
     "text": [
      "0.526463264972088\n"
     ]
    }
   ],
   "source": [
    "import sklearn\n",
    "\n",
    "# final model\n",
    "n_features_optimal = 3\n",
    "\n",
    "lm = LinearRegression()\n",
    "lm.fit(X_train, y_train)\n",
    "\n",
    "rfe = RFE(lm, n_features_to_select=n_features_optimal)             \n",
    "rfe = rfe.fit(X_train, y_train)\n",
    "\n",
    "# predict prices of X_test\n",
    "y_pred = lm.predict(X_test)\n",
    "r2 = sklearn.metrics.r2_score(y_test, y_pred)\n",
    "print(r2)\n"
   ]
  },
  {
   "cell_type": "code",
   "execution_count": null,
   "metadata": {},
   "outputs": [],
   "source": [
    "#In general, the mean score estimated by CV will usually be a good estimate of the test score.\n"
   ]
  }
 ],
 "metadata": {
  "kernelspec": {
   "display_name": "base",
   "language": "python",
   "name": "python3"
  },
  "language_info": {
   "codemirror_mode": {
    "name": "ipython",
    "version": 3
   },
   "file_extension": ".py",
   "mimetype": "text/x-python",
   "name": "python",
   "nbconvert_exporter": "python",
   "pygments_lexer": "ipython3",
   "version": "3.11.8"
  }
 },
 "nbformat": 4,
 "nbformat_minor": 2
}
